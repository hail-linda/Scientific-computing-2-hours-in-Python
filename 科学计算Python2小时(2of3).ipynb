{
 "cells": [
  {
   "cell_type": "markdown",
   "id": "lesser-guinea",
   "metadata": {},
   "source": [
    "## "
   ]
  },
  {
   "cell_type": "markdown",
   "id": "hungry-insurance",
   "metadata": {},
   "source": [
    "## 文档内容"
   ]
  },
  {
   "cell_type": "markdown",
   "id": "toxic-alias",
   "metadata": {},
   "source": [
    "1. 前言和目录\n",
    "2. Python基础\n",
    "3. 数据读取\n",
    "4. Python的数学基础：numpy\n",
    "5. 数据清洗/数据处理：pandas\n",
    "6. 连续数学：scipy\n",
    "7. 符号/符号计算：sympy\n",
    "8. 离散事件仿真：simpy\n",
    "9. 绘图：matplotlib & seaborn"
   ]
  },
  {
   "cell_type": "markdown",
   "id": "needed-humidity",
   "metadata": {},
   "source": [
    "## 其他"
   ]
  },
  {
   "cell_type": "markdown",
   "id": "mexican-activity",
   "metadata": {},
   "source": [
    "\n",
    "\n",
    "文档同步开源到Github：\n",
    "https://github.com/hail-linda/Scientific-computing-2-hours-in-Python"
   ]
  },
  {
   "cell_type": "markdown",
   "id": "academic-professional",
   "metadata": {},
   "source": [
    "## 四、Python的数学基础：numpy"
   ]
  }
 ],
 "metadata": {
  "kernelspec": {
   "display_name": "Python 3",
   "language": "python",
   "name": "python3"
  },
  "language_info": {
   "codemirror_mode": {
    "name": "ipython",
    "version": 3
   },
   "file_extension": ".py",
   "mimetype": "text/x-python",
   "name": "python",
   "nbconvert_exporter": "python",
   "pygments_lexer": "ipython3",
   "version": "3.8.3"
  }
 },
 "nbformat": 4,
 "nbformat_minor": 5
}
