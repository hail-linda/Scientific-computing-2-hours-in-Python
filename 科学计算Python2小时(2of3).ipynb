{
 "cells": [
  {
   "cell_type": "markdown",
   "id": "lesser-guinea",
   "metadata": {},
   "source": [
    "## "
   ]
  },
  {
   "cell_type": "markdown",
   "id": "hungry-insurance",
   "metadata": {},
   "source": [
    "## 文档内容"
   ]
  },
  {
   "cell_type": "markdown",
   "id": "toxic-alias",
   "metadata": {},
   "source": [
    "1. 前言和目录\n",
    "2. Python基础\n",
    "3. 数据读取\n",
    "4. [Python的数学基础：numpy](#四、Python的数学基础：numpy)\n",
    "5. [数据清洗/数据处理：pandas](#五、数据清洗/数据处理：pandas)\n",
    "6. [连续数学：scipy](#六、连续数学：scipy)\n",
    "7. 符号/符号计算：sympy\n",
    "8. 离散事件仿真：simpy\n",
    "9. 绘图：matplotlib & seaborn\n",
    "\n",
    "上面的超链接提供一键直达"
   ]
  },
  {
   "cell_type": "markdown",
   "id": "needed-humidity",
   "metadata": {},
   "source": [
    "## 其他"
   ]
  },
  {
   "cell_type": "markdown",
   "id": "mexican-activity",
   "metadata": {},
   "source": [
    "文档同步开源到Github：\n",
    "https://github.com/hail-linda/Scientific-computing-2-hours-in-Python\n",
    "\n",
    " 对于后半部分的这些外部模块，将不再进行细致的函数描述和讲解。但是会引入一些别人写的比较好的教程，同时配合一些解释和例子。"
   ]
  },
  {
   "cell_type": "markdown",
   "id": "interior-amount",
   "metadata": {},
   "source": [
    "## 四、Python的数学基础：numpy"
   ]
  },
  {
   "cell_type": "markdown",
   "id": "dirty-magic",
   "metadata": {},
   "source": [
    "先上几份链接：\n",
    "\n",
    "numpy中文网 ：https://www.numpy.org.cn/user/\n",
    "\n",
    "菜鸟教程numpy教程 ： https://www.runoob.com/numpy/numpy-tutorial.html\n",
    "\n",
    "一份github上的numpy可视化教程：https://jalammar.github.io/visual-numpy/\n",
    "\n"
   ]
  },
  {
   "cell_type": "markdown",
   "id": "separated-madagascar",
   "metadata": {},
   "source": [
    "NumPy(Numerical Python) 是 Python 语言的一个扩展程序库，支持大量的维度数组与矩阵运算，此外也针对数组运算提供大量的数学函数库。\n",
    "\n",
    "NumPy和Matlab具有很强的相似性，对于从Matlab转到Python的各位同学来说，使用NumPy可能会是比较容易的一种科学计算上手手段。\n",
    "\n",
    "首先我们先通过一行代码来引入NumPy这个库一般情况下会把定义一个别称叫做np"
   ]
  },
  {
   "cell_type": "code",
   "execution_count": 2,
   "id": "excited-consent",
   "metadata": {},
   "outputs": [],
   "source": [
    "import numpy as np"
   ]
  },
  {
   "cell_type": "markdown",
   "id": "specific-memory",
   "metadata": {},
   "source": [
    "我们可以很容易的通过一个列表或者是多层列表,来产生一个numpy中的数组叫array"
   ]
  },
  {
   "cell_type": "code",
   "execution_count": 13,
   "id": "greenhouse-discount",
   "metadata": {},
   "outputs": [
    {
     "name": "stdout",
     "output_type": "stream",
     "text": [
      "[4, 5, 6]\n",
      "[[2, 3, 4], [3, 4, 5], [4, 5, 6]]\n",
      "[[[0, 1, 2], [1, 2, 3], [2, 3, 4]], [[1, 2, 3], [2, 3, 4], [3, 4, 5]], [[2, 3, 4], [3, 4, 5], [4, 5, 6]]]\n",
      "[4 5 6]\n",
      "[[2 3 4]\n",
      " [3 4 5]\n",
      " [4 5 6]]\n",
      "[[[0 1 2]\n",
      "  [1 2 3]\n",
      "  [2 3 4]]\n",
      "\n",
      " [[1 2 3]\n",
      "  [2 3 4]\n",
      "  [3 4 5]]\n",
      "\n",
      " [[2 3 4]\n",
      "  [3 4 5]\n",
      "  [4 5 6]]]\n"
     ]
    }
   ],
   "source": [
    "listSize = 3\n",
    "threeDList = []\n",
    "for i in range(listSize):\n",
    "    twoDList = []\n",
    "    for j in range(listSize):\n",
    "        numList = []\n",
    "        for k in range(listSize):\n",
    "            numList.append(i+j+k)\n",
    "        twoDList.append(numList)\n",
    "    threeDList.append(twoDList)\n",
    "    \n",
    "print(numList)\n",
    "print(twoDList)\n",
    "print(threeDList)\n",
    "\n",
    "print(np.array(numList))\n",
    "print(np.array(twoDList))\n",
    "print(np.array(threeDList))\n",
    "\n"
   ]
  },
  {
   "cell_type": "code",
   "execution_count": 26,
   "id": "coral-programming",
   "metadata": {},
   "outputs": [
    {
     "data": {
      "text/plain": [
       "3"
      ]
     },
     "execution_count": 26,
     "metadata": {},
     "output_type": "execute_result"
    }
   ],
   "source": [
    "np.array(threeDList)[0,1,2]"
   ]
  },
  {
   "cell_type": "markdown",
   "id": "traditional-shanghai",
   "metadata": {},
   "source": [
    "除此之外numpy还提供了许多其他的创建数组的办法"
   ]
  },
  {
   "cell_type": "code",
   "execution_count": 25,
   "id": "consistent-happiness",
   "metadata": {},
   "outputs": [],
   "source": [
    "# 这段程序来自 https://www.numpy.org.cn/article/basics/python_numpy_tutorial.html#%E6%95%B0%E7%BB%84-arrays\n",
    "import numpy as np\n",
    "\n",
    "a = np.zeros((2,2))   # Create an array of all zeros\n",
    "                      # Prints \"[[ 0.  0.]\n",
    "                      #          [ 0.  0.]]\"\n",
    "\n",
    "b = np.ones((1,2))    # Create an array of all ones\n",
    "                      # Prints \"[[ 1.  1.]]\"\n",
    "\n",
    "c = np.full((2,2), 7)  # Create a constant array\n",
    "                       # Prints \"[[ 7.  7.]\n",
    "                       #          [ 7.  7.]]\"\n",
    "\n",
    "d = np.eye(2)         # Create a 2x2 identity matrix\n",
    "                      # Prints \"[[ 1.  0.]\n",
    "                      #          [ 0.  1.]]\"\n",
    "\n",
    "e = np.random.random((2,2))  # Create an array filled with random values\n",
    "                             # Might print \"[[ 0.91940167  0.08143941]\n",
    "                             #               [ 0.68744134  0.87236687]]\"\n"
   ]
  },
  {
   "cell_type": "markdown",
   "id": "following-weather",
   "metadata": {},
   "source": [
    "需要注意的是，当直接使用乘号来对两个矩阵进行运算时，是矩阵中每一个元素相乘而不是矩阵中的乘法"
   ]
  },
  {
   "cell_type": "code",
   "execution_count": 22,
   "id": "acting-clinic",
   "metadata": {},
   "outputs": [
    {
     "data": {
      "text/plain": [
       "array([[ 0,  2,  6],\n",
       "       [ 2,  6, 12],\n",
       "       [ 6, 12, 20]])"
      ]
     },
     "execution_count": 22,
     "metadata": {},
     "output_type": "execute_result"
    }
   ],
   "source": [
    "threeDArray = np.array(threeDList)\n",
    "threeDArray[0]*threeDArray[1]"
   ]
  },
  {
   "cell_type": "markdown",
   "id": "consistent-calculation",
   "metadata": {},
   "source": [
    "如果需要用到矩阵运算中的乘法需要用dot函数"
   ]
  },
  {
   "cell_type": "code",
   "execution_count": 27,
   "id": "numerous-senior",
   "metadata": {},
   "outputs": [
    {
     "data": {
      "text/plain": [
       "array([[ 8, 11, 14],\n",
       "       [14, 20, 26],\n",
       "       [20, 29, 38]])"
      ]
     },
     "execution_count": 27,
     "metadata": {},
     "output_type": "execute_result"
    }
   ],
   "source": [
    "threeDArray[0].dot(threeDArray[1])"
   ]
  },
  {
   "cell_type": "markdown",
   "id": "covered-major",
   "metadata": {},
   "source": [
    "或者转置之后再点乘"
   ]
  },
  {
   "cell_type": "code",
   "execution_count": 28,
   "id": "favorite-hayes",
   "metadata": {},
   "outputs": [
    {
     "data": {
      "text/plain": [
       "array([[ 8, 11, 14],\n",
       "       [14, 20, 26],\n",
       "       [20, 29, 38]])"
      ]
     },
     "execution_count": 28,
     "metadata": {},
     "output_type": "execute_result"
    }
   ],
   "source": [
    "threeDArray[0].T.dot(threeDArray[1])# 显然这个矩阵转置没什么用,他是一个对称阵"
   ]
  },
  {
   "cell_type": "markdown",
   "id": "crude-snapshot",
   "metadata": {},
   "source": [
    "更多的数学运算参考:https://www.numpy.org.cn/reference/routines/math.html#%E6%95%B0%E5%AD%A6%E5%87%BD%E6%95%B0-mathematical-functions"
   ]
  },
  {
   "cell_type": "markdown",
   "id": "willing-cincinnati",
   "metadata": {},
   "source": [
    "**实践；多元变量最小二乘法**\n",
    "\n",
    "假设我们有一组真实数据满足以下条件：$$y = \\sum_{i=1-3}w_i*x_i$$\n",
    "\n",
    "我们根据它产生这个数据，并且添加误差。"
   ]
  },
  {
   "cell_type": "code",
   "execution_count": 79,
   "id": "absent-university",
   "metadata": {},
   "outputs": [
    {
     "data": {
      "text/plain": [
       "matrix([[2.77588865, 2.72491964, 3.0337616 ],\n",
       "        [3.46905442, 1.06410804, 2.82734519],\n",
       "        [3.98638193, 3.05366499, 3.91077019],\n",
       "        [3.24886742, 4.1057564 , 4.27535254],\n",
       "        [1.08339821, 3.30263199, 2.74771354],\n",
       "        [0.63612052, 3.34126467, 0.54447395],\n",
       "        [4.19750678, 1.05319676, 2.77382847],\n",
       "        [4.8578052 , 1.32252476, 4.29082147],\n",
       "        [3.03621614, 1.38742438, 1.90084138],\n",
       "        [1.25351333, 2.99621904, 3.17763642],\n",
       "        [3.87344254, 0.89366448, 1.57050764],\n",
       "        [3.88840189, 4.25095543, 3.00328721]])"
      ]
     },
     "execution_count": 79,
     "metadata": {},
     "output_type": "execute_result"
    }
   ],
   "source": [
    "w_true = np.array([25.3,14.5,67.66]).reshape(3,1)#指定系数\n",
    "X = np.random.rand(12,3)*5 #随机0~5产生12组自变量\n",
    "X = np.matrix(X)\n",
    "X"
   ]
  },
  {
   "cell_type": "code",
   "execution_count": 81,
   "id": "furnished-proportion",
   "metadata": {},
   "outputs": [
    {
     "data": {
      "text/plain": [
       "matrix([[313.13352875],\n",
       "        [293.12421541],\n",
       "        [410.21387444],\n",
       "        [432.27703191],\n",
       "        [263.18609862],\n",
       "        [103.11007379],\n",
       "        [309.37808965],\n",
       "        [433.60081044],\n",
       "        [226.34142347],\n",
       "        [288.78323839],\n",
       "        [217.9536492 ],\n",
       "        [361.62186649]])"
      ]
     },
     "execution_count": 81,
     "metadata": {},
     "output_type": "execute_result"
    }
   ],
   "source": [
    "Y = X.dot(w_true)+np.random.rand(12,1)*4-2 # 计算y并且加（-2~2）的误差\n",
    "Y = np.matrix(Y)\n",
    "Y"
   ]
  },
  {
   "cell_type": "markdown",
   "id": "resident-conversation",
   "metadata": {},
   "source": [
    "最小二乘法的公式是\n",
    "\n",
    "$$W = (X^T X)^{-1} X^T Y$$\n",
    "\n",
    "想知道公式怎么来自己学去"
   ]
  },
  {
   "cell_type": "code",
   "execution_count": 82,
   "id": "documentary-bottom",
   "metadata": {},
   "outputs": [
    {
     "data": {
      "text/plain": [
       "matrix([[25.34472969],\n",
       "        [14.62669337],\n",
       "        [67.54659685]])"
      ]
     },
     "execution_count": 82,
     "metadata": {},
     "output_type": "execute_result"
    }
   ],
   "source": [
    "# 按公式来计算\n",
    "W = (X.T.dot(X)).I.dot(X.T).dot(Y)\n",
    "W"
   ]
  },
  {
   "cell_type": "markdown",
   "id": "small-throat",
   "metadata": {},
   "source": [
    "这与我们设定的系数已经非常接近了"
   ]
  },
  {
   "cell_type": "code",
   "execution_count": 83,
   "id": "egyptian-study",
   "metadata": {},
   "outputs": [
    {
     "name": "stdout",
     "output_type": "stream",
     "text": [
      "[[ 0.04472969]\n",
      " [ 0.12669337]\n",
      " [-0.11340315]]\n"
     ]
    }
   ],
   "source": [
    "bias = W-w_true\n",
    "print(bias)"
   ]
  },
  {
   "cell_type": "markdown",
   "id": "natural-range",
   "metadata": {},
   "source": [
    "差在零点几左右，搞定收工"
   ]
  },
  {
   "cell_type": "markdown",
   "id": "external-problem",
   "metadata": {},
   "source": [
    "## 五、数据清洗/数据处理：pandas"
   ]
  },
  {
   "attachments": {
    "%E5%9B%BE%E7%89%87-2.png": {
     "image/png": "[encoded data removed]"
    },
    "%E5%9B%BE%E7%89%87.png": {
     "image/png": "[encoded data removed]"
    }
   },
   "cell_type": "markdown",
   "id": "floating-israel",
   "metadata": {},
   "source": [
    "pandas的资料超级多，这里举几个典型的例子。\n",
    "\n",
    "Joyful Pandas ：https://cdn.jsdelivr.net/gh/datawhalechina/joyful-pandas@master/ebook/joyfulpandas.pdf\n",
    "\n",
    "Joyful Pandas 是一份非常详尽的pandas入门手册，包括索引、分组、变形、连接等一系列在实际编程环境中可能会用到的办法。这个东西是datawhale出的一本手册，我也不太清楚他们是搜集的一些内容还是自己从头编写的，反正知识非常的丰富。入门的话可以直接从里面的例题入手，反正时间上也没几天了，你肯定全都看不完。把里面的例题能读懂，然后跑随便跑一跑试一试就可以了。\n",
    "\n",
    "![%E5%9B%BE%E7%89%87.png](attachment:%E5%9B%BE%E7%89%87.png)\n",
    "\n",
    "再有就是阿里云天池的一些数据分析基础入门题目。有一些没有悬赏的题目，会有比较多的公开答案发布在天池上，他们的注释和思路起来都非常的详尽，非常适合什么都不懂的小白去膜拜大佬。\n",
    "\n",
    "比如这一份\n",
    "\n",
    "阿里云天池大数据的一道数据分析入门题的解答：https://tianchi.aliyun.com/notebook-ai/detail?spm=5176.12586969.1002.15.cd7715a7zddJiZ&postId=164450\n",
    "\n",
    "![%E5%9B%BE%E7%89%87-2.png](attachment:%E5%9B%BE%E7%89%87-2.png)\n",
    "\n",
    "这是对应的题目链接https://tianchi.aliyun.com/competition/entrance/531866/information\n",
    "\n",
    "还有这个\n",
    "\n",
    "数据分析入门活动赛事，利用Pandas分析美国选民总统喜好度https://tianchi.aliyun.com/notebook-ai/detail?spm=5176.12281897.0.0.30a239a9pu2q55&postId=137714\n",
    "\n"
   ]
  },
  {
   "cell_type": "code",
   "execution_count": 93,
   "id": "spoken-mining",
   "metadata": {},
   "outputs": [
    {
     "name": "stdout",
     "output_type": "stream",
     "text": [
      "RangeIndex(start=0, stop=485, step=1)\n",
      "Index(['Center', 'Center Search Status', 'Facility', 'FacilityURL', 'Occupied',\n",
      "       'Status', 'URL Link', 'Record Date', 'Last Update', 'Country',\n",
      "       'Location', 'City', 'State', 'Zipcode'],\n",
      "      dtype='object')\n"
     ]
    }
   ],
   "source": [
    "import pandas as pd\n",
    "import numpy as np\n",
    "\n",
    "data = pd.read_csv(\"NASA_Facilities.csv\")\n",
    "print(data.index)# 序号\n",
    "print(data.columns)# 表头\n"
   ]
  },
  {
   "cell_type": "code",
   "execution_count": 94,
   "id": "scheduled-thread",
   "metadata": {},
   "outputs": [
    {
     "data": {
      "text/html": [
       "<div>\n",
       "<style scoped>\n",
       "    .dataframe tbody tr th:only-of-type {\n",
       "        vertical-align: middle;\n",
       "    }\n",
       "\n",
       "    .dataframe tbody tr th {\n",
       "        vertical-align: top;\n",
       "    }\n",
       "\n",
       "    .dataframe thead th {\n",
       "        text-align: right;\n",
       "    }\n",
       "</style>\n",
       "<table border=\"1\" class=\"dataframe\">\n",
       "  <thead>\n",
       "    <tr style=\"text-align: right;\">\n",
       "      <th></th>\n",
       "      <th>Center</th>\n",
       "      <th>Center Search Status</th>\n",
       "      <th>Facility</th>\n",
       "      <th>FacilityURL</th>\n",
       "      <th>Occupied</th>\n",
       "      <th>Status</th>\n",
       "      <th>URL Link</th>\n",
       "      <th>Record Date</th>\n",
       "      <th>Last Update</th>\n",
       "      <th>Country</th>\n",
       "      <th>Location</th>\n",
       "      <th>City</th>\n",
       "      <th>State</th>\n",
       "      <th>Zipcode</th>\n",
       "    </tr>\n",
       "  </thead>\n",
       "  <tbody>\n",
       "    <tr>\n",
       "      <th>0</th>\n",
       "      <td>Stennis Space Center</td>\n",
       "      <td>Public</td>\n",
       "      <td>Test Stand A-2 #4122</td>\n",
       "      <td>NaN</td>\n",
       "      <td>01/01/1964 12:00:00 AM</td>\n",
       "      <td>Inactive</td>\n",
       "      <td>http://rockettest.nasa.gov</td>\n",
       "      <td>03/01/1996 12:00:00 AM</td>\n",
       "      <td>04/06/2015 12:00:00 AM</td>\n",
       "      <td>US</td>\n",
       "      <td>39529-6000 (30.385948, -89.604486)</td>\n",
       "      <td>Stennis Space Center</td>\n",
       "      <td>MS</td>\n",
       "      <td>39529-6000</td>\n",
       "    </tr>\n",
       "    <tr>\n",
       "      <th>1</th>\n",
       "      <td>Ames Research Center</td>\n",
       "      <td>Public</td>\n",
       "      <td>N229 - EXPER. AEROTHERMODYNAMIC FAC.: ELECTRIC...</td>\n",
       "      <td>NaN</td>\n",
       "      <td>01/01/1961 12:00:00 AM</td>\n",
       "      <td>Active</td>\n",
       "      <td>http://thermo-physics.arc.nasa.gov</td>\n",
       "      <td>03/01/1996 12:00:00 AM</td>\n",
       "      <td>06/13/2014 12:00:00 AM</td>\n",
       "      <td>US</td>\n",
       "      <td>94035 (37.41412, -122.052585)</td>\n",
       "      <td>Moffett Field</td>\n",
       "      <td>CA</td>\n",
       "      <td>94035</td>\n",
       "    </tr>\n",
       "    <tr>\n",
       "      <th>2</th>\n",
       "      <td>Goddard Space Flight Center</td>\n",
       "      <td>Public</td>\n",
       "      <td>500 WSC: Antenna, 10m S-band</td>\n",
       "      <td>NaN</td>\n",
       "      <td>01/01/1977 12:00:00 AM</td>\n",
       "      <td>Active</td>\n",
       "      <td>NaN</td>\n",
       "      <td>03/01/1996 12:00:00 AM</td>\n",
       "      <td>08/15/2013 12:00:00 AM</td>\n",
       "      <td>US</td>\n",
       "      <td>20771 (38.99538, -76.853161)</td>\n",
       "      <td>Greenbelt</td>\n",
       "      <td>MD</td>\n",
       "      <td>20771</td>\n",
       "    </tr>\n",
       "    <tr>\n",
       "      <th>3</th>\n",
       "      <td>Glenn Research Center</td>\n",
       "      <td>Public</td>\n",
       "      <td>Vacuum Facility 11 (VF-11) Bldg. 16</td>\n",
       "      <td>NaN</td>\n",
       "      <td>NaN</td>\n",
       "      <td>Active</td>\n",
       "      <td>http://facilities.grc.nasa.gov/epl/index.html</td>\n",
       "      <td>07/15/2010 12:00:00 AM</td>\n",
       "      <td>03/04/2015 12:00:00 AM</td>\n",
       "      <td>US</td>\n",
       "      <td>44135 (41.430364, -81.808561)</td>\n",
       "      <td>Cleveland</td>\n",
       "      <td>OH</td>\n",
       "      <td>44135</td>\n",
       "    </tr>\n",
       "    <tr>\n",
       "      <th>4</th>\n",
       "      <td>Marshall Space Flight Center</td>\n",
       "      <td>Public</td>\n",
       "      <td>Materials Testing &amp; Research Facility 4464</td>\n",
       "      <td>NaN</td>\n",
       "      <td>NaN</td>\n",
       "      <td>Active</td>\n",
       "      <td>NaN</td>\n",
       "      <td>03/08/2007 12:00:00 AM</td>\n",
       "      <td>03/31/2014 12:00:00 AM</td>\n",
       "      <td>US</td>\n",
       "      <td>35812 (34.729538, -86.585283)</td>\n",
       "      <td>Huntsville</td>\n",
       "      <td>AL</td>\n",
       "      <td>35812</td>\n",
       "    </tr>\n",
       "  </tbody>\n",
       "</table>\n",
       "</div>"
      ],
      "text/plain": [
       "                         Center Center Search Status  \\\n",
       "0          Stennis Space Center               Public   \n",
       "1          Ames Research Center               Public   \n",
       "2   Goddard Space Flight Center               Public   \n",
       "3         Glenn Research Center               Public   \n",
       "4  Marshall Space Flight Center               Public   \n",
       "\n",
       "                                            Facility  FacilityURL  \\\n",
       "0                               Test Stand A-2 #4122          NaN   \n",
       "1  N229 - EXPER. AEROTHERMODYNAMIC FAC.: ELECTRIC...          NaN   \n",
       "2                       500 WSC: Antenna, 10m S-band          NaN   \n",
       "3                Vacuum Facility 11 (VF-11) Bldg. 16          NaN   \n",
       "4         Materials Testing & Research Facility 4464          NaN   \n",
       "\n",
       "                 Occupied    Status  \\\n",
       "0  01/01/1964 12:00:00 AM  Inactive   \n",
       "1  01/01/1961 12:00:00 AM    Active   \n",
       "2  01/01/1977 12:00:00 AM    Active   \n",
       "3                     NaN    Active   \n",
       "4                     NaN    Active   \n",
       "\n",
       "                                        URL Link             Record Date  \\\n",
       "0                     http://rockettest.nasa.gov  03/01/1996 12:00:00 AM   \n",
       "1             http://thermo-physics.arc.nasa.gov  03/01/1996 12:00:00 AM   \n",
       "2                                            NaN  03/01/1996 12:00:00 AM   \n",
       "3  http://facilities.grc.nasa.gov/epl/index.html  07/15/2010 12:00:00 AM   \n",
       "4                                            NaN  03/08/2007 12:00:00 AM   \n",
       "\n",
       "              Last Update Country                            Location  \\\n",
       "0  04/06/2015 12:00:00 AM      US  39529-6000 (30.385948, -89.604486)   \n",
       "1  06/13/2014 12:00:00 AM      US       94035 (37.41412, -122.052585)   \n",
       "2  08/15/2013 12:00:00 AM      US        20771 (38.99538, -76.853161)   \n",
       "3  03/04/2015 12:00:00 AM      US       44135 (41.430364, -81.808561)   \n",
       "4  03/31/2014 12:00:00 AM      US       35812 (34.729538, -86.585283)   \n",
       "\n",
       "                   City State     Zipcode  \n",
       "0  Stennis Space Center    MS  39529-6000  \n",
       "1         Moffett Field    CA       94035  \n",
       "2             Greenbelt    MD       20771  \n",
       "3             Cleveland    OH       44135  \n",
       "4            Huntsville    AL       35812  "
      ]
     },
     "execution_count": 94,
     "metadata": {},
     "output_type": "execute_result"
    }
   ],
   "source": [
    "data.head(5) #前5行\n",
    "#data.tail(5) # 后5行"
   ]
  },
  {
   "cell_type": "code",
   "execution_count": 95,
   "id": "veterinary-explorer",
   "metadata": {},
   "outputs": [
    {
     "name": "stdout",
     "output_type": "stream",
     "text": [
      "<class 'pandas.core.frame.DataFrame'>\n",
      "RangeIndex: 485 entries, 0 to 484\n",
      "Data columns (total 14 columns):\n",
      " #   Column                Non-Null Count  Dtype  \n",
      "---  ------                --------------  -----  \n",
      " 0   Center                485 non-null    object \n",
      " 1   Center Search Status  485 non-null    object \n",
      " 2   Facility              485 non-null    object \n",
      " 3   FacilityURL           0 non-null      float64\n",
      " 4   Occupied              393 non-null    object \n",
      " 5   Status                399 non-null    object \n",
      " 6   URL Link              145 non-null    object \n",
      " 7   Record Date           485 non-null    object \n",
      " 8   Last Update           479 non-null    object \n",
      " 9   Country               485 non-null    object \n",
      " 10  Location              485 non-null    object \n",
      " 11  City                  485 non-null    object \n",
      " 12  State                 485 non-null    object \n",
      " 13  Zipcode               485 non-null    object \n",
      "dtypes: float64(1), object(13)\n",
      "memory usage: 53.2+ KB\n"
     ]
    }
   ],
   "source": [
    "data.info() # 数据的统计量"
   ]
  },
  {
   "cell_type": "code",
   "execution_count": 97,
   "id": "focused-abortion",
   "metadata": {},
   "outputs": [
    {
     "data": {
      "text/plain": [
       "array(['MS', 'CA', 'MD', 'OH', 'AL', 'LA', 'TX', 'FL', 'DC', 'VA'],\n",
       "      dtype=object)"
      ]
     },
     "execution_count": 97,
     "metadata": {},
     "output_type": "execute_result"
    }
   ],
   "source": [
    "data['State'].unique() # 相当于取set 指提取出不重复项"
   ]
  },
  {
   "cell_type": "code",
   "execution_count": 98,
   "id": "tutorial-constraint",
   "metadata": {},
   "outputs": [
    {
     "data": {
      "text/plain": [
       "AL    136\n",
       "FL     84\n",
       "VA     60\n",
       "CA     56\n",
       "OH     42\n",
       "MD     32\n",
       "MS     29\n",
       "DC     23\n",
       "LA     17\n",
       "TX      6\n",
       "Name: State, dtype: int64"
      ]
     },
     "execution_count": 98,
     "metadata": {},
     "output_type": "execute_result"
    }
   ],
   "source": [
    "data['State'].value_counts() # 提取出不重复项及频数"
   ]
  },
  {
   "cell_type": "code",
   "execution_count": 99,
   "id": "divine-poland",
   "metadata": {},
   "outputs": [
    {
     "data": {
      "text/plain": [
       "AL    136\n",
       "FL     84\n",
       "VA     60\n",
       "Name: State, dtype: int64"
      ]
     },
     "execution_count": 99,
     "metadata": {},
     "output_type": "execute_result"
    }
   ],
   "source": [
    "data['State'].value_counts().head(3) # 这些方法也可以取前若干行哦"
   ]
  },
  {
   "cell_type": "code",
   "execution_count": 100,
   "id": "complicated-change",
   "metadata": {},
   "outputs": [
    {
     "data": {
      "text/html": [
       "<div>\n",
       "<style scoped>\n",
       "    .dataframe tbody tr th:only-of-type {\n",
       "        vertical-align: middle;\n",
       "    }\n",
       "\n",
       "    .dataframe tbody tr th {\n",
       "        vertical-align: top;\n",
       "    }\n",
       "\n",
       "    .dataframe thead th {\n",
       "        text-align: right;\n",
       "    }\n",
       "</style>\n",
       "<table border=\"1\" class=\"dataframe\">\n",
       "  <thead>\n",
       "    <tr style=\"text-align: right;\">\n",
       "      <th></th>\n",
       "      <th>Center</th>\n",
       "      <th>Location</th>\n",
       "      <th>State</th>\n",
       "    </tr>\n",
       "  </thead>\n",
       "  <tbody>\n",
       "    <tr>\n",
       "      <th>0</th>\n",
       "      <td>Stennis Space Center</td>\n",
       "      <td>39529-6000 (30.385948, -89.604486)</td>\n",
       "      <td>MS</td>\n",
       "    </tr>\n",
       "    <tr>\n",
       "      <th>1</th>\n",
       "      <td>Ames Research Center</td>\n",
       "      <td>94035 (37.41412, -122.052585)</td>\n",
       "      <td>CA</td>\n",
       "    </tr>\n",
       "    <tr>\n",
       "      <th>2</th>\n",
       "      <td>Goddard Space Flight Center</td>\n",
       "      <td>20771 (38.99538, -76.853161)</td>\n",
       "      <td>MD</td>\n",
       "    </tr>\n",
       "    <tr>\n",
       "      <th>3</th>\n",
       "      <td>Glenn Research Center</td>\n",
       "      <td>44135 (41.430364, -81.808561)</td>\n",
       "      <td>OH</td>\n",
       "    </tr>\n",
       "    <tr>\n",
       "      <th>4</th>\n",
       "      <td>Marshall Space Flight Center</td>\n",
       "      <td>35812 (34.729538, -86.585283)</td>\n",
       "      <td>AL</td>\n",
       "    </tr>\n",
       "    <tr>\n",
       "      <th>...</th>\n",
       "      <td>...</td>\n",
       "      <td>...</td>\n",
       "      <td>...</td>\n",
       "    </tr>\n",
       "    <tr>\n",
       "      <th>480</th>\n",
       "      <td>Kennedy Space Center</td>\n",
       "      <td>32899 (28.538331, -81.378879)</td>\n",
       "      <td>FL</td>\n",
       "    </tr>\n",
       "    <tr>\n",
       "      <th>481</th>\n",
       "      <td>Wallops Flight Facility/GSFC</td>\n",
       "      <td>23337-5099 (37.911289, -75.469622)</td>\n",
       "      <td>VA</td>\n",
       "    </tr>\n",
       "    <tr>\n",
       "      <th>482</th>\n",
       "      <td>Kennedy Space Center</td>\n",
       "      <td>32899 (28.538331, -81.378879)</td>\n",
       "      <td>FL</td>\n",
       "    </tr>\n",
       "    <tr>\n",
       "      <th>483</th>\n",
       "      <td>Langley Research Center</td>\n",
       "      <td>23681-2199 (37.08681, -76.376649)</td>\n",
       "      <td>VA</td>\n",
       "    </tr>\n",
       "    <tr>\n",
       "      <th>484</th>\n",
       "      <td>Armstrong Flight Research Center</td>\n",
       "      <td>93523 (35.000989, -117.888837)</td>\n",
       "      <td>CA</td>\n",
       "    </tr>\n",
       "  </tbody>\n",
       "</table>\n",
       "<p>485 rows × 3 columns</p>\n",
       "</div>"
      ],
      "text/plain": [
       "                               Center                            Location  \\\n",
       "0                Stennis Space Center  39529-6000 (30.385948, -89.604486)   \n",
       "1                Ames Research Center       94035 (37.41412, -122.052585)   \n",
       "2         Goddard Space Flight Center        20771 (38.99538, -76.853161)   \n",
       "3               Glenn Research Center       44135 (41.430364, -81.808561)   \n",
       "4        Marshall Space Flight Center       35812 (34.729538, -86.585283)   \n",
       "..                                ...                                 ...   \n",
       "480              Kennedy Space Center       32899 (28.538331, -81.378879)   \n",
       "481      Wallops Flight Facility/GSFC  23337-5099 (37.911289, -75.469622)   \n",
       "482              Kennedy Space Center       32899 (28.538331, -81.378879)   \n",
       "483           Langley Research Center   23681-2199 (37.08681, -76.376649)   \n",
       "484  Armstrong Flight Research Center      93523 (35.000989, -117.888837)   \n",
       "\n",
       "    State  \n",
       "0      MS  \n",
       "1      CA  \n",
       "2      MD  \n",
       "3      OH  \n",
       "4      AL  \n",
       "..    ...  \n",
       "480    FL  \n",
       "481    VA  \n",
       "482    FL  \n",
       "483    VA  \n",
       "484    CA  \n",
       "\n",
       "[485 rows x 3 columns]"
      ]
     },
     "execution_count": 100,
     "metadata": {},
     "output_type": "execute_result"
    }
   ],
   "source": [
    "data[['Center','Location','State']]# 或者我们只对其中若干列感兴趣"
   ]
  },
  {
   "cell_type": "code",
   "execution_count": 103,
   "id": "asian-affiliate",
   "metadata": {},
   "outputs": [
    {
     "data": {
      "text/html": [
       "<div>\n",
       "<style scoped>\n",
       "    .dataframe tbody tr th:only-of-type {\n",
       "        vertical-align: middle;\n",
       "    }\n",
       "\n",
       "    .dataframe tbody tr th {\n",
       "        vertical-align: top;\n",
       "    }\n",
       "\n",
       "    .dataframe thead th {\n",
       "        text-align: right;\n",
       "    }\n",
       "</style>\n",
       "<table border=\"1\" class=\"dataframe\">\n",
       "  <thead>\n",
       "    <tr style=\"text-align: right;\">\n",
       "      <th></th>\n",
       "      <th>Center</th>\n",
       "      <th>Center Search Status</th>\n",
       "      <th>Facility</th>\n",
       "      <th>FacilityURL</th>\n",
       "      <th>Occupied</th>\n",
       "      <th>Status</th>\n",
       "      <th>URL Link</th>\n",
       "      <th>Record Date</th>\n",
       "      <th>Last Update</th>\n",
       "      <th>Country</th>\n",
       "      <th>Location</th>\n",
       "      <th>City</th>\n",
       "      <th>Zipcode</th>\n",
       "    </tr>\n",
       "    <tr>\n",
       "      <th>State</th>\n",
       "      <th></th>\n",
       "      <th></th>\n",
       "      <th></th>\n",
       "      <th></th>\n",
       "      <th></th>\n",
       "      <th></th>\n",
       "      <th></th>\n",
       "      <th></th>\n",
       "      <th></th>\n",
       "      <th></th>\n",
       "      <th></th>\n",
       "      <th></th>\n",
       "      <th></th>\n",
       "    </tr>\n",
       "  </thead>\n",
       "  <tbody>\n",
       "    <tr>\n",
       "      <th>MS</th>\n",
       "      <td>Stennis Space Center</td>\n",
       "      <td>Public</td>\n",
       "      <td>Test Stand A-2 #4122</td>\n",
       "      <td>NaN</td>\n",
       "      <td>01/01/1964 12:00:00 AM</td>\n",
       "      <td>Inactive</td>\n",
       "      <td>http://rockettest.nasa.gov</td>\n",
       "      <td>03/01/1996 12:00:00 AM</td>\n",
       "      <td>04/06/2015 12:00:00 AM</td>\n",
       "      <td>US</td>\n",
       "      <td>39529-6000 (30.385948, -89.604486)</td>\n",
       "      <td>Stennis Space Center</td>\n",
       "      <td>39529-6000</td>\n",
       "    </tr>\n",
       "    <tr>\n",
       "      <th>MS</th>\n",
       "      <td>Stennis Space Center</td>\n",
       "      <td>Public</td>\n",
       "      <td>Push Boat</td>\n",
       "      <td>NaN</td>\n",
       "      <td>01/01/1965 12:00:00 AM</td>\n",
       "      <td>Active</td>\n",
       "      <td>http://rockettest.nasa.gov</td>\n",
       "      <td>03/01/1996 12:00:00 AM</td>\n",
       "      <td>04/06/2015 12:00:00 AM</td>\n",
       "      <td>US</td>\n",
       "      <td>39529-6000 (30.385948, -89.604486)</td>\n",
       "      <td>Stennis Space Center</td>\n",
       "      <td>39529-6000</td>\n",
       "    </tr>\n",
       "    <tr>\n",
       "      <th>MS</th>\n",
       "      <td>Stennis Space Center</td>\n",
       "      <td>Public</td>\n",
       "      <td>Test Operations Bldg. E Complex #4010</td>\n",
       "      <td>NaN</td>\n",
       "      <td>01/01/1991 12:00:00 AM</td>\n",
       "      <td>Active</td>\n",
       "      <td>http://rockettest.nasa.gov</td>\n",
       "      <td>03/01/1996 12:00:00 AM</td>\n",
       "      <td>04/06/2015 12:00:00 AM</td>\n",
       "      <td>US</td>\n",
       "      <td>39529-6000 (30.385948, -89.604486)</td>\n",
       "      <td>Stennis Space Center</td>\n",
       "      <td>39529-6000</td>\n",
       "    </tr>\n",
       "    <tr>\n",
       "      <th>MS</th>\n",
       "      <td>Stennis Space Center</td>\n",
       "      <td>Public</td>\n",
       "      <td>Barge, Liquid Oxygen (6 each)</td>\n",
       "      <td>NaN</td>\n",
       "      <td>01/01/1965 12:00:00 AM</td>\n",
       "      <td>Active</td>\n",
       "      <td>http://rockettest.nasa.gov</td>\n",
       "      <td>03/01/1996 12:00:00 AM</td>\n",
       "      <td>04/06/2015 12:00:00 AM</td>\n",
       "      <td>US</td>\n",
       "      <td>39529-6000 (30.385948, -89.604486)</td>\n",
       "      <td>Stennis Space Center</td>\n",
       "      <td>39529-6000</td>\n",
       "    </tr>\n",
       "    <tr>\n",
       "      <th>MS</th>\n",
       "      <td>Stennis Space Center</td>\n",
       "      <td>Public</td>\n",
       "      <td>Sensor Laboratory #1105</td>\n",
       "      <td>NaN</td>\n",
       "      <td>01/01/1966 12:00:00 AM</td>\n",
       "      <td>Active</td>\n",
       "      <td>NaN</td>\n",
       "      <td>03/01/1996 12:00:00 AM</td>\n",
       "      <td>04/06/2015 12:00:00 AM</td>\n",
       "      <td>US</td>\n",
       "      <td>39529-6000 (30.385948, -89.604486)</td>\n",
       "      <td>Stennis Space Center</td>\n",
       "      <td>39529-6000</td>\n",
       "    </tr>\n",
       "  </tbody>\n",
       "</table>\n",
       "</div>"
      ],
      "text/plain": [
       "                     Center Center Search Status  \\\n",
       "State                                              \n",
       "MS     Stennis Space Center               Public   \n",
       "MS     Stennis Space Center               Public   \n",
       "MS     Stennis Space Center               Public   \n",
       "MS     Stennis Space Center               Public   \n",
       "MS     Stennis Space Center               Public   \n",
       "\n",
       "                                    Facility  FacilityURL  \\\n",
       "State                                                       \n",
       "MS                      Test Stand A-2 #4122          NaN   \n",
       "MS                                 Push Boat          NaN   \n",
       "MS     Test Operations Bldg. E Complex #4010          NaN   \n",
       "MS             Barge, Liquid Oxygen (6 each)          NaN   \n",
       "MS                   Sensor Laboratory #1105          NaN   \n",
       "\n",
       "                     Occupied    Status                    URL Link  \\\n",
       "State                                                                 \n",
       "MS     01/01/1964 12:00:00 AM  Inactive  http://rockettest.nasa.gov   \n",
       "MS     01/01/1965 12:00:00 AM    Active  http://rockettest.nasa.gov   \n",
       "MS     01/01/1991 12:00:00 AM    Active  http://rockettest.nasa.gov   \n",
       "MS     01/01/1965 12:00:00 AM    Active  http://rockettest.nasa.gov   \n",
       "MS     01/01/1966 12:00:00 AM    Active                         NaN   \n",
       "\n",
       "                  Record Date             Last Update Country  \\\n",
       "State                                                           \n",
       "MS     03/01/1996 12:00:00 AM  04/06/2015 12:00:00 AM      US   \n",
       "MS     03/01/1996 12:00:00 AM  04/06/2015 12:00:00 AM      US   \n",
       "MS     03/01/1996 12:00:00 AM  04/06/2015 12:00:00 AM      US   \n",
       "MS     03/01/1996 12:00:00 AM  04/06/2015 12:00:00 AM      US   \n",
       "MS     03/01/1996 12:00:00 AM  04/06/2015 12:00:00 AM      US   \n",
       "\n",
       "                                 Location                  City     Zipcode  \n",
       "State                                                                        \n",
       "MS     39529-6000 (30.385948, -89.604486)  Stennis Space Center  39529-6000  \n",
       "MS     39529-6000 (30.385948, -89.604486)  Stennis Space Center  39529-6000  \n",
       "MS     39529-6000 (30.385948, -89.604486)  Stennis Space Center  39529-6000  \n",
       "MS     39529-6000 (30.385948, -89.604486)  Stennis Space Center  39529-6000  \n",
       "MS     39529-6000 (30.385948, -89.604486)  Stennis Space Center  39529-6000  "
      ]
     },
     "execution_count": 103,
     "metadata": {},
     "output_type": "execute_result"
    }
   ],
   "source": [
    "dataIndex = data.set_index('State')# 以State作为索引\n",
    "dataIndex.loc['MS'].head() # 提取出State==MS的数据行"
   ]
  },
  {
   "cell_type": "code",
   "execution_count": 120,
   "id": "funny-sullivan",
   "metadata": {},
   "outputs": [
    {
     "data": {
      "text/plain": [
       "FacilityURL    485\n",
       "URL Link       340\n",
       "Occupied        92\n",
       "Status          86\n",
       "Last Update      6\n",
       "dtype: int64"
      ]
     },
     "execution_count": 120,
     "metadata": {},
     "output_type": "execute_result"
    }
   ],
   "source": [
    "data.isna().sum().nlargest()#或者我们先统计一下有没有缺失数据 输出最大的5个"
   ]
  },
  {
   "cell_type": "markdown",
   "id": "reflected-hawaiian",
   "metadata": {},
   "source": [
    "## 六、连续数学：scipy"
   ]
  },
  {
   "cell_type": "markdown",
   "id": "dependent-phenomenon",
   "metadata": {},
   "source": [
    "`Scipy` 是 `Python` 中进行科学计算的一个第三方库，以 `Numpy` 为基础。\n",
    "\n",
    "引入外部资源链接：https://nbviewer.jupyter.org/github/lijin-THU/notes-python/blob/master/04-scipy/04.01-scienticfic-python-overview.ipynb\n",
    "\n",
    "下面给出的是两份使用的例子，都来自上面的资源链接"
   ]
  },
  {
   "cell_type": "markdown",
   "id": "given-canadian",
   "metadata": {},
   "source": [
    "**最小二乘法拟合**"
   ]
  },
  {
   "cell_type": "code",
   "execution_count": 135,
   "id": "recovered-difficulty",
   "metadata": {},
   "outputs": [
    {
     "name": "stdout",
     "output_type": "stream",
     "text": [
      "真实参数: [10, 0.34, 0.5235987755982988]\n",
      "拟合参数 [-10.43936972   0.33939388  -2.62732135]\n"
     ]
    },
    {
     "data": {
      "image/png": "[encoded data removed]",
      "text/plain": [
       "<Figure size 432x288 with 1 Axes>"
      ]
     },
     "metadata": {
      "needs_background": "light"
     },
     "output_type": "display_data"
    }
   ],
   "source": [
    "# -*- coding: utf-8 -*-\n",
    "import numpy as np\n",
    "import scipy as sp\n",
    "import matplotlib as mpl\n",
    "import matplotlib.pyplot as plt\n",
    "from scipy.optimize import leastsq\n",
    "import math\n",
    "\n",
    "\n",
    "def func(x, p):\n",
    "    \"\"\"\n",
    " 数据拟合所用的函数: A*sin(2*pi*k*x + theta)\n",
    " \"\"\"\n",
    "    A, k, theta = p\n",
    "    return A*np.sin(2*np.pi*k*x+theta)   \n",
    "\n",
    "def residuals(p, y, x):\n",
    "    \"\"\"\n",
    " 实验数据x, y和拟合函数之间的差，p为拟合需要找到的系数\n",
    " \"\"\"\n",
    "    return y - func(x, p)\n",
    "\n",
    "x = np.linspace(0, -2*np.pi, 100)\n",
    "A, k, theta = 10, 0.34, np.pi/6 # 真实数据的函数参数\n",
    "y0 = func(x, [A, k, theta]) # 真实数据\n",
    "y1 = y0 + 2 * np.random.randn(len(x)) # 加入噪声之后的实验数据 \n",
    "\n",
    "p0 = [7, 0.2, 0] # 第一次猜测的函数拟合参数\n",
    "\n",
    "# 调用leastsq进行数据拟合\n",
    "# residuals为计算误差的函数\n",
    "# p0为拟合参数的初始值\n",
    "# args为需要拟合的实验数据\n",
    "plsq = leastsq(residuals, p0, args=(y1, x))# 看看人家 把算法都内置好了 调库就完事儿了\n",
    "\n",
    "print(u\"真实参数:\", [A, k, theta] )\n",
    "print(u\"拟合参数\", plsq[0]) # 实验数据拟合后的参数\n",
    "\n",
    "plt.rcParams['font.sans-serif'] = ['KaiTi']\n",
    "plt.rcParams['axes.unicode_minus']=False\n",
    "plt.plot(x, y0, label=u\"真实数据\")\n",
    "plt.plot(x, y1, label=u\"带噪声的实验数据\")\n",
    "plt.plot(x, func(x, plsq[0]), label=u\"拟合数据\")\n",
    "plt.legend()\n",
    "plt.show()"
   ]
  },
  {
   "cell_type": "markdown",
   "id": "hazardous-siemens",
   "metadata": {},
   "source": [
    "**最小化函数**"
   ]
  },
  {
   "cell_type": "markdown",
   "id": "approximate-rates",
   "metadata": {},
   "source": [
    "$$d = 2 \\frac{v_0^2}{g} \\sin(\\theta) \\cos (\\theta)$$\n",
    "\n",
    "上式是斜抛运动的计算公式，目的是求出使$d$最大的$\\theta$\n",
    "\n",
    "定义距离的计算公式"
   ]
  },
  {
   "cell_type": "code",
   "execution_count": 153,
   "id": "single-blake",
   "metadata": {},
   "outputs": [
    {
     "data": {
      "image/png": "[encoded data removed]",
      "text/plain": [
       "<Figure size 432x288 with 1 Axes>"
      ]
     },
     "metadata": {
      "needs_background": "light"
     },
     "output_type": "display_data"
    }
   ],
   "source": [
    "\n",
    "def dist(theta, v0):\n",
    "    \"\"\"calculate the distance travelled by a projectile launched\n",
    "    at theta degrees with v0 (m/s) initial velocity.\n",
    "    \"\"\"\n",
    "    g = 9.8\n",
    "    theta_rad = math.pi * theta / 180\n",
    "    return 2 * v0 ** 2 / g * np.sin(theta_rad) * np.cos(theta_rad) * -1\n",
    "\n",
    "theta = np.linspace(0,90,90)\n",
    "\n",
    "p = plt.plot(theta, dist(theta, 20.))\n",
    "xl = plt.xlabel(r'launch angle $\\theta (^{\\circ})$')\n",
    "yl = plt.ylabel('horizontal distance traveled')"
   ]
  },
  {
   "cell_type": "code",
   "execution_count": 158,
   "id": "quiet-wagon",
   "metadata": {},
   "outputs": [
    {
     "data": {
      "text/plain": [
       "      fun: -40.81632653061136\n",
       " hess_inv: array([[20.11016671]])\n",
       "      jac: array([-4.76837158e-07])\n",
       "  message: 'Optimization terminated successfully.'\n",
       "     nfev: 12\n",
       "      nit: 4\n",
       "     njev: 6\n",
       "   status: 0\n",
       "  success: True\n",
       "        x: array([44.99999404])"
      ]
     },
     "execution_count": 158,
     "metadata": {},
     "output_type": "execute_result"
    }
   ],
   "source": [
    "from scipy.optimize import minimize #引入最小化函数\n",
    "result = minimize(dist, 40, args=(20,))# 计算\n",
    "result"
   ]
  },
  {
   "cell_type": "markdown",
   "id": "sunset-skiing",
   "metadata": {},
   "source": [
    "从result可以看出来角度（x）的最优值为45度 扔约40米"
   ]
  }
 ],
 "metadata": {
  "kernelspec": {
   "display_name": "Python 3",
   "language": "python",
   "name": "python3"
  },
  "language_info": {
   "codemirror_mode": {
    "name": "ipython",
    "version": 3
   },
   "file_extension": ".py",
   "mimetype": "text/x-python",
   "name": "python",
   "nbconvert_exporter": "python",
   "pygments_lexer": "ipython3",
   "version": "3.8.3"
  }
 },
 "nbformat": 4,
 "nbformat_minor": 5
}
