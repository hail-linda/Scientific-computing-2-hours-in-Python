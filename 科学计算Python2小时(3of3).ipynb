{
 "cells": [
  {
   "cell_type": "markdown",
   "id": "lesser-guinea",
   "metadata": {},
   "source": [
    "## "
   ]
  },
  {
   "cell_type": "markdown",
   "id": "hungry-insurance",
   "metadata": {},
   "source": [
    "## 文档内容"
   ]
  },
  {
   "cell_type": "markdown",
   "id": "toxic-alias",
   "metadata": {},
   "source": [
    "1. 前言和目录\n",
    "2. Python基础\n",
    "3. 数据读取\n",
    "4. Python的数学基础：numpy\n",
    "5. 数据清洗/数据处理：pandas\n",
    "6. 连续数学：scipy\n",
    "7. [符号/符号计算：sympy](#七、符号/符号计算：sympy)\n",
    "8. [绘图：matplotlib & seaborn](#八、绘图：matplotlib&seaborn)\n",
    "\n",
    "上面的超链接提供一键直达"
   ]
  },
  {
   "cell_type": "markdown",
   "id": "needed-humidity",
   "metadata": {},
   "source": [
    "## 其他"
   ]
  },
  {
   "cell_type": "markdown",
   "id": "mexican-activity",
   "metadata": {},
   "source": [
    "文档同步开源到Github：\n",
    "https://github.com/hail-linda/Scientific-computing-2-hours-in-Python\n",
    "\n",
    " 对于后半部分的这些外部模块，将不再进行细致的函数描述和讲解。但是会引入一些别人写的比较好的教程，同时配合一些解释和例子。"
   ]
  },
  {
   "cell_type": "markdown",
   "id": "former-professional",
   "metadata": {},
   "source": [
    "## 七、符号/符号计算：sympy"
   ]
  },
  {
   "cell_type": "markdown",
   "id": "canadian-nomination",
   "metadata": {},
   "source": [
    "https://zhuanlan.zhihu.com/p/83822118\n",
    "    \n",
    "https://geek-docs.com/python/python-tutorial/python-sympy.html\n",
    "\n",
    "https://blog.csdn.net/cj151525/article/details/95756847\n",
    "\n",
    "Python-sympy科学计算与数据处理.pdf\n",
    "\n",
    "下面的例子中有一些输出直接就是公式，这也是sympy的一项好处，在这些公式上右键`shoe Math as -> Tex Command`，就能得到Latex格式的公式，直接拿来渲染就好用（但可能形式上有一些复杂），比如:\n",
    "\n",
    "\\displaystyle x \\left(x^{2} y^{2} \\cos{\\left(x y \\right)} + 6 x y \\sin{\\left(x y \\right)} - 6 \\cos{\\left(x y \\right)}\\right)\n",
    "\n",
    "就是下面例子中“微分”的第四项"
   ]
  },
  {
   "cell_type": "code",
   "execution_count": 6,
   "id": "compatible-stick",
   "metadata": {},
   "outputs": [],
   "source": [
    "import sympy"
   ]
  },
  {
   "cell_type": "markdown",
   "id": "meaning-blackjack",
   "metadata": {},
   "source": [
    "**多项式求解**"
   ]
  },
  {
   "cell_type": "code",
   "execution_count": 7,
   "id": "finite-enclosure",
   "metadata": {},
   "outputs": [
    {
     "name": "stdout",
     "output_type": "stream",
     "text": [
      "34.0000000000000\n"
     ]
    }
   ],
   "source": [
    "x=sympy.Symbol('x')\n",
    "fx=5*x+4\n",
    "#使用evalf函数传值\n",
    "y1=fx.evalf(subs={x:6})\n",
    "print(y1)"
   ]
  },
  {
   "cell_type": "markdown",
   "id": "written-ordering",
   "metadata": {},
   "source": [
    "**多元多项式求解**"
   ]
  },
  {
   "cell_type": "code",
   "execution_count": 8,
   "id": "large-strike",
   "metadata": {},
   "outputs": [
    {
     "name": "stdout",
     "output_type": "stream",
     "text": [
      "25.0000000000000\n"
     ]
    }
   ],
   "source": [
    "#多元表达式\n",
    "x=sympy.Symbol('x')\n",
    "y=sympy.Symbol('y')\n",
    "fx=x*x+y*y\n",
    "result=fx.evalf(subs={x:3,y:4})\n",
    "print(result)"
   ]
  },
  {
   "cell_type": "markdown",
   "id": "substantial-exhibit",
   "metadata": {},
   "source": [
    "**求和**"
   ]
  },
  {
   "cell_type": "code",
   "execution_count": 63,
   "id": "fifty-ferry",
   "metadata": {},
   "outputs": [
    {
     "data": {
      "text/latex": [
       "$\\displaystyle 550$"
      ],
      "text/plain": [
       "550"
      ]
     },
     "execution_count": 63,
     "metadata": {},
     "output_type": "execute_result"
    },
    {
     "data": {
      "text/latex": [
       "$\\displaystyle n^{2} + 3 n$"
      ],
      "text/plain": [
       "n**2 + 3*n"
      ]
     },
     "execution_count": 63,
     "metadata": {},
     "output_type": "execute_result"
    }
   ],
   "source": [
    "from IPython.core.interactiveshell import InteractiveShell\n",
    "InteractiveShell.ast_node_interactivity = 'all'# 这两行是为了输出两个OUT[*]\n",
    "\n",
    "import sympy\n",
    "#定义变量\n",
    "n=sympy.Symbol('n')\n",
    "f=n**2+3*n\n",
    "#前面参数放函数，后面放变量的变化范围\n",
    "sympy.summation(f,(n,1,10))\n",
    "f"
   ]
  },
  {
   "cell_type": "markdown",
   "id": "hidden-shoot",
   "metadata": {},
   "source": [
    "**微分**"
   ]
  },
  {
   "cell_type": "code",
   "execution_count": 34,
   "id": "parliamentary-woman",
   "metadata": {},
   "outputs": [
    {
     "data": {
      "text/latex": [
       "$\\displaystyle 2 \\cos{\\left(2 x \\right)}$"
      ],
      "text/plain": [
       "2*cos(2*x)"
      ]
     },
     "execution_count": 34,
     "metadata": {},
     "output_type": "execute_result"
    },
    {
     "data": {
      "text/latex": [
       "$\\displaystyle 2 \\cos{\\left(2 x \\right)}$"
      ],
      "text/plain": [
       "2*cos(2*x)"
      ]
     },
     "execution_count": 34,
     "metadata": {},
     "output_type": "execute_result"
    },
    {
     "data": {
      "text/latex": [
       "$\\displaystyle - 4 \\sin{\\left(2 x \\right)}$"
      ],
      "text/plain": [
       "-4*sin(2*x)"
      ]
     },
     "execution_count": 34,
     "metadata": {},
     "output_type": "execute_result"
    },
    {
     "data": {
      "text/latex": [
       "$\\displaystyle x \\left(x^{2} y^{2} \\cos{\\left(x y \\right)} + 6 x y \\sin{\\left(x y \\right)} - 6 \\cos{\\left(x y \\right)}\\right)$"
      ],
      "text/plain": [
       "x*(x**2*y**2*cos(x*y) + 6*x*y*sin(x*y) - 6*cos(x*y))"
      ]
     },
     "execution_count": 34,
     "metadata": {},
     "output_type": "execute_result"
    }
   ],
   "source": [
    "diff(sin(2*x), x) \n",
    "sin(2*x).diff(x) \n",
    "diff(sin(2*x), x, 2) \n",
    "diff(sin(x*y), x,2,y,3) "
   ]
  },
  {
   "cell_type": "markdown",
   "id": "little-occurrence",
   "metadata": {},
   "source": [
    "**积分**"
   ]
  },
  {
   "cell_type": "code",
   "execution_count": 45,
   "id": "willing-springfield",
   "metadata": {},
   "outputs": [
    {
     "data": {
      "text/latex": [
       "$\\displaystyle \\frac{x^{3}}{3} + x$"
      ],
      "text/plain": [
       "x**3/3 + x"
      ]
     },
     "execution_count": 45,
     "metadata": {},
     "output_type": "execute_result"
    },
    {
     "data": {
      "text/latex": [
       "$\\displaystyle \\frac{8}{3}$"
      ],
      "text/plain": [
       "8/3"
      ]
     },
     "execution_count": 45,
     "metadata": {},
     "output_type": "execute_result"
    }
   ],
   "source": [
    "f = x**2 + 1\n",
    "integrate(f)#不定积分\n",
    "integrate(f, (x, -1, 1))#定积分\n"
   ]
  },
  {
   "cell_type": "markdown",
   "id": "perfect-export",
   "metadata": {},
   "source": [
    "**公式化简**"
   ]
  },
  {
   "cell_type": "code",
   "execution_count": 58,
   "id": "improved-class",
   "metadata": {},
   "outputs": [
    {
     "data": {
      "text/latex": [
       "$\\displaystyle 2 a b + 3 a + 4 b + \\left(a^{2} + 4 b\\right)^{3}$"
      ],
      "text/plain": [
       "2*a*b + 3*a + 4*b + (a**2 + 4*b)**3"
      ]
     },
     "execution_count": 58,
     "metadata": {},
     "output_type": "execute_result"
    },
    {
     "data": {
      "text/latex": [
       "$\\displaystyle a^{6} + 12 a^{4} b + 48 a^{2} b^{2} + 2 a b + 3 a + 64 b^{3} + 4 b$"
      ],
      "text/plain": [
       "a**6 + 12*a**4*b + 48*a**2*b**2 + 2*a*b + 3*a + 64*b**3 + 4*b"
      ]
     },
     "execution_count": 58,
     "metadata": {},
     "output_type": "execute_result"
    },
    {
     "data": {
      "text/latex": [
       "$\\displaystyle \\tan{\\left(a \\right)}$"
      ],
      "text/plain": [
       "tan(a)"
      ]
     },
     "execution_count": 58,
     "metadata": {},
     "output_type": "execute_result"
    }
   ],
   "source": [
    "from sympy.abc import a, b\n",
    "expr = b*a + -4*a + b + a*b + 4*a + (a + b)*3 + (a**2 + 4*b)**3\n",
    "expr # 表达式（会自动合并同类项）\n",
    "expand(expr) # 展开\n",
    "simplify(sin(a)/cos(a))# 化简"
   ]
  },
  {
   "cell_type": "markdown",
   "id": "original-membrane",
   "metadata": {},
   "source": [
    "**求值**"
   ]
  },
  {
   "cell_type": "code",
   "execution_count": 62,
   "id": "uniform-wilson",
   "metadata": {},
   "outputs": [
    {
     "data": {
      "text/latex": [
       "$\\displaystyle 2 a b + 3 a + 4 b + \\left(a^{2} + 4 b\\right)^{3}$"
      ],
      "text/plain": [
       "2*a*b + 3*a + 4*b + (a**2 + 4*b)**3"
      ]
     },
     "execution_count": 62,
     "metadata": {},
     "output_type": "execute_result"
    },
    {
     "data": {
      "text/latex": [
       "$\\displaystyle 15674$"
      ],
      "text/plain": [
       "15674"
      ]
     },
     "execution_count": 62,
     "metadata": {},
     "output_type": "execute_result"
    }
   ],
   "source": [
    "expr\n",
    "expr.subs([(a,3),(b,4)])"
   ]
  },
  {
   "cell_type": "markdown",
   "id": "three-rainbow",
   "metadata": {},
   "source": [
    "## 八、绘图：matplotlib&seaborn"
   ]
  },
  {
   "cell_type": "code",
   "execution_count": null,
   "id": "regulation-lightweight",
   "metadata": {},
   "outputs": [],
   "source": []
  },
  {
   "cell_type": "code",
   "execution_count": null,
   "id": "three-customs",
   "metadata": {},
   "outputs": [],
   "source": []
  },
  {
   "cell_type": "code",
   "execution_count": null,
   "id": "sought-herald",
   "metadata": {},
   "outputs": [],
   "source": []
  }
 ],
 "metadata": {
  "kernelspec": {
   "display_name": "Python 3",
   "language": "python",
   "name": "python3"
  },
  "language_info": {
   "codemirror_mode": {
    "name": "ipython",
    "version": 3
   },
   "file_extension": ".py",
   "mimetype": "text/x-python",
   "name": "python",
   "nbconvert_exporter": "python",
   "pygments_lexer": "ipython3",
   "version": "3.8.3"
  }
 },
 "nbformat": 4,
 "nbformat_minor": 5
}
