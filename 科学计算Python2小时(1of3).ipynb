{
 "cells": [
  {
   "cell_type": "markdown",
   "id": "curious-eight",
   "metadata": {},
   "source": [
    "# 一、前言与目录"
   ]
  },
  {
   "cell_type": "markdown",
   "id": "lesser-guinea",
   "metadata": {},
   "source": [
    "## 作者"
   ]
  },
  {
   "cell_type": "markdown",
   "id": "exterior-valley",
   "metadata": {},
   "source": [
    "---\n",
    "\n",
    "李昕达\n",
    "\n",
    "2016级 哈尔滨工程大学 自动化学院\n",
    "\n",
    "2020级 哈尔滨工业大学 仪器科学与工程学院\n",
    "\n",
    "-----\n",
    "\n",
    "email：i@lixinda.me\n",
    "\n",
    "wechat：lixinda_"
   ]
  },
  {
   "cell_type": "markdown",
   "id": "continental-effort",
   "metadata": {},
   "source": [
    "## 前言"
   ]
  },
  {
   "cell_type": "markdown",
   "id": "respected-twins",
   "metadata": {},
   "source": [
    "**科学计算Python2小时**是一份专门为2021年（及之后）美国大学生学建模竞赛（国赛或许也可）准备的，在哈尔滨工程大学进入美国实体清单之后，为应对MATLAB可能不能使用的情况，使用Python来面对数学建模中一系列使用计算机解决数学建模实际问题的状况。\n",
    "\n",
    "两小时指的不是你可以在两小时内学会Python这门编程语言，并且在数学建模中熟练地运用它，而是说您读完这篇文档并且理解它，可能需要至少两个小时。\n",
    "\n",
    "在实际拿到对应的美国大学生数学建模竞赛题目之后，你可能需要大量的时间来挖掘出所需要的算法，并且在我接下来所讲内容中找到对应的解决方案（代码），那这里面分成两个部分，一个是算法，另外一个是解决方案，在本篇文档中不会提到任何关于算法的内容，但会提出一些实际的应用环境，并且给出对应的解决方案。**所以这篇文章的作用就是提供一个解决方案的集合，在你提出自己的模型或者自己的算法之后，在这个集合中找到实现它的途径。**\n",
    "\n",
    "不可能在一篇短短的文章中，完备的提出所有的解决方案，所以我会尽可能的引入一些外部的资源，并给出一个他们大概的描述。这些外部资源作为拓展的阅读材料，需要在建模之前进行一个概略的阅读，至少需要了解他们的标题\n",
    "\n",
    "这篇文章使用jupyter notebook书写。在Python所集成的IPython环境下使用网页端的jupyter，来进行交互式的Python程序编写以及文档的撰写，我将会同步提交ipynb（**IPY**thon **N**ote**B**ook）文件（但这个文件不装环境打不开）和渲染得到的PDF文件（或html）（这个一定能打开，但格式不一定好看）"
   ]
  },
  {
   "cell_type": "markdown",
   "id": "hungry-insurance",
   "metadata": {},
   "source": [
    "## 文档内容"
   ]
  },
  {
   "cell_type": "markdown",
   "id": "toxic-alias",
   "metadata": {},
   "source": [
    "1. 前言和目录\n",
    "2. Python基础\n",
    "3. 数据读取\n",
    "4. Python的数学基础：numpy\n",
    "5. 数据清洗/数据处理：pandas\n",
    "6. 连续数学：scipy\n",
    "7. 符号/符号计算：sympy\n",
    "8. 离散事件仿真：simpy\n",
    "9. 绘图：matplotlib & seaborn"
   ]
  },
  {
   "cell_type": "markdown",
   "id": "needed-humidity",
   "metadata": {},
   "source": [
    "## 其他"
   ]
  },
  {
   "cell_type": "markdown",
   "id": "mexican-activity",
   "metadata": {},
   "source": [
    "我参加过2018年2019年的美国大学生数学建模竞赛，并且拿到了H和M，2020年因为已经确定了保研资格，所以并没有参加美赛，但是在知乎上写了两篇思路，据知乎上的私信反馈，也有几位同学拿到了比较好的成绩。今年美赛也并没有报名参赛，所以可能会有机会写一篇解析。到时候有思路的话，会跟大家分享，仅供讨论。\n",
    "\n",
    "文章链接：\n",
    "\n",
    "**2020美赛D：哈士奇队**\n",
    "https://zhuanlan.zhihu.com/p/106851263\n",
    "\n",
    "**2020美赛B：玩沙子！**\n",
    "https://zhuanlan.zhihu.com/p/111229457"
   ]
  },
  {
   "cell_type": "markdown",
   "id": "elder-jacob",
   "metadata": {},
   "source": [
    "# 二、Python基础"
   ]
  },
  {
   "cell_type": "markdown",
   "id": "charitable-leone",
   "metadata": {},
   "source": [
    "首先要说明的是，目前常用的Python版本包括Python2和Python3，二者有一些语法和一些包是互不兼容的。部分Python的拓展库已经放弃了对Python2的支持所以本分文档推荐使用Python3作为解释器。当然对于数学建模而言，Python2也是一个可选的方案，但是可能会在使用过程中遇到一些问题，如果你是Python2的忠实拥护者，那么使用Python2来完成数学建模工作，也未尝不可。\n",
    "\n",
    "接下来我们可能需要理清几个概念**解释器**，**文本编辑器**，**IDE**和**包管理工具**\n",
    "\n",
    "**解释器**\n",
    "\n",
    "一般我们编写Python源程序时，会得到一个后缀名为py的文件，当你想要运行这份代码的时候，操作系统是不能够认识py这份文件怎怎么样工作的，这时就需要一个解释器，**将这份文件翻译成机器可以识别的机器码**。\n",
    "\n",
    "通常我们在网络上看到一些教程说，我们可以直接去Python的官方网站上下载某一个版本的Python，并将它们安装在我们自己的电脑上，那么这里我们所安装的Python其实就是解释器。\n",
    "\n",
    "如果说的更明确一些，他应该被称为CPython解释器，一个用C语言写的Python解释器，当我们在命令行中运行下面这行代码的时候，其实就是它在执行作用\n",
    "\n",
    "` python demo.py `\n",
    "\n",
    "IPython是另外一种Python解释器，与其说它跟CPython上有什么不同，还不如说它只是在CPython的交互方式上进行了一些改进,IPython使用代码块的方式展现和运行代码。\n",
    "\n",
    " CPython使用`>>>`做命令提示符，而IPython使用`IN[num]`作为命令提示符,从这里可以就可以很容易的把二者分辨开.\n",
    " \n",
    " 比如在命令行中进行Python或者在pycharm这类软件中运行Python使用的都是CPython解释器\n",
    " \n",
    " 而在jupyter notebook或者spyder这样的软件中运行，用的都是IPython解释器\n",
    " \n",
    " 二者并没有什么明显的区别，当我们已经完成了功能的测试时，我们可以使用CPython来进行大规模的计算，到我们测试功能时，我们可以使用IPython来进行交互式的代码书写。如果要进行一些展示性的或者教程性的代码书写的时候，使用IPython一般是比较友好的一种展示方式。\n",
    " \n",
    " **文本编辑器**\n",
    " \n",
    " 就像电脑中最常用的**记事本**软件一样，文本编辑器其实就就是用来敲代码的一个界面而已但是有一些文本编辑器，集成了代码补全、代码高亮、缩管理之类的插件，所以在代码的编写中会用的比较顺手。\n",
    " \n",
    " 比如**记事本，Vim，VSCode**都是常用的文本编辑器\n",
    " \n",
    " 通常使用纯文本编辑器编辑好的程序，需要在命令行中调用对应的文件来运行它\n",
    " \n",
    " **IDE**\n",
    " \n",
    " 集成开发环境（IDE，Integrated Development Environment ）是用于提供程序开发环境的应用程序，使用集成开发环境的好处在于你可以在一处完成代码测试编写到运行的所有步骤，通常在侧边栏它会有文件夹的管理，在占程序空间的大块的区域，会有代码编写的位置，一些菜单栏会提供给你运行程序和显示程序运行结果的按键和区域。\n",
    " \n",
    "甚至相当一部分IDE还会贴心的给你安装好Python的运行环境。（我说的就是Anaconda）\n",
    "\n",
    "诸如  **Anaconda,pycharm,spyder,VS** 都属于集成开发环境\n",
    "\n",
    "\n",
    " **包管理工具**\n",
    " \n",
    " 原生的Python其实并没有什么特别强大的功能，许多常用的科学计算软件包或者绘图软件包比如我们熟知的numpy或者matplotlib，都是独立出来的程序库,那怎么样把他们导入到我们的程序中，并且为我们所用呢？这时候就需要包管理工具，常用的包管理工具有pip和conda\n",
    " \n",
    " 一般情况下再安装好Python的解释器之后，pip就是默认的包管理工具，你可以在命令行中使用pip install来安装某些你想要的包。这时候 Pip会从网络上把对应的软件包下载下来，并且安装到你的电脑上，但是Python默认的下载源在国外，所以下载速度会比较慢，这里推荐使用清华大学的镜像源，来下载你所需要的软件包。\n",
    " \n",
    " `pip install -i https://pypi.tuna.tsinghua.edu.cn/simple [软件包名字]`\n",
    " \n",
    " 许多情况下，当你iimport某个包时它会报错，那么问题就在于这个包你根本没有安装和下载过，那么使用上面这一条代码在命令行中运行，基本就可以解决问题。\n",
    " \n",
    " "
   ]
  },
  {
   "cell_type": "markdown",
   "id": "advised-bangladesh",
   "metadata": {},
   "source": [
    "## Hello world"
   ]
  },
  {
   "cell_type": "markdown",
   "id": "valued-mobility",
   "metadata": {},
   "source": [
    "等你完成安装Python环境以及相关软件的一些工作之后，就可以开始正式的踏入Python的世界了，那么其实任何编程语言的第1步都是一样的，打印出hello world。尝试运行以下这行代码"
   ]
  },
  {
   "cell_type": "code",
   "execution_count": 5,
   "id": "mexican-netherlands",
   "metadata": {},
   "outputs": [
    {
     "name": "stdout",
     "output_type": "stream",
     "text": [
      "Hello wold\n"
     ]
    }
   ],
   "source": [
    "print(\"Hello wold\")"
   ]
  },
  {
   "cell_type": "markdown",
   "id": "desperate-israeli",
   "metadata": {},
   "source": [
    "那么接下来将这个部分，我们将开始进行Python科学计算的一些基本常识的了解\n",
    "\n",
    "在Python中行注释的用法是在当前行最前面加一个井号 `#`,而多行数式是用三个单引号或者三个双引号将代码块框起来\n",
    "\n",
    "而在大部分的文本编辑器或者IDE中如果你想在很多行前面都加一个井号来做单行注释，那么对应的快捷键是`Ctrl+/`,(这个超级好用)"
   ]
  },
  {
   "cell_type": "code",
   "execution_count": 6,
   "id": "neutral-furniture",
   "metadata": {},
   "outputs": [
    {
     "ename": "NameError",
     "evalue": "name '这是一行忘加的注释符号的注释' is not defined",
     "output_type": "error",
     "traceback": [
      "\u001b[1;31m---------------------------------------------------------------------------\u001b[0m",
      "\u001b[1;31mNameError\u001b[0m                                 Traceback (most recent call last)",
      "\u001b[1;32m<ipython-input-6-f7fc53c12e11>\u001b[0m in \u001b[0;36m<module>\u001b[1;34m\u001b[0m\n\u001b[0;32m      2\u001b[0m \u001b[1;31m# 这也是一行注释\u001b[0m\u001b[1;33m\u001b[0m\u001b[1;33m\u001b[0m\u001b[1;33m\u001b[0m\u001b[0m\n\u001b[0;32m      3\u001b[0m \u001b[1;31m# 这还是一行注释\u001b[0m\u001b[1;33m\u001b[0m\u001b[1;33m\u001b[0m\u001b[1;33m\u001b[0m\u001b[0m\n\u001b[1;32m----> 4\u001b[1;33m \u001b[0m这是一行忘加的注释符号的注释\u001b[0m\u001b[1;33m\u001b[0m\u001b[1;33m\u001b[0m\u001b[0m\n\u001b[0m",
      "\u001b[1;31mNameError\u001b[0m: name '这是一行忘加的注释符号的注释' is not defined"
     ]
    }
   ],
   "source": [
    "# 这是一行注释\n",
    "# 这也是一行注释\n",
    "# 这还是一行注释\n",
    "这是一行忘加的注释符号的注释"
   ]
  },
  {
   "cell_type": "markdown",
   "id": "least-lexington",
   "metadata": {},
   "source": [
    "那么就可以清晰的看出来，我们引入了一个错误,他表示这一个变量没有被定义.\n",
    "\n",
    "在代码的编写过程中，你可能会遇到很多这样类似的问题，善用搜索引擎之前需要先读一下他到底是说了些什么，就我们这点英语水平，还是能读懂他的报错的很多报错都已经将问题出现原因讲得很清晰了"
   ]
  },
  {
   "cell_type": "markdown",
   "id": "ignored-software",
   "metadata": {},
   "source": [
    "## 运算与数据类型"
   ]
  },
  {
   "cell_type": "markdown",
   "id": "hired-quick",
   "metadata": {},
   "source": [
    "在Python中一个变量，如果你想要使用它，其实你并不用像C一样首先去定义，直接用它来计算就好了"
   ]
  },
  {
   "cell_type": "markdown",
   "id": "enabling-internet",
   "metadata": {},
   "source": [
    "**数据类型**"
   ]
  },
  {
   "cell_type": "code",
   "execution_count": 10,
   "id": "wireless-salmon",
   "metadata": {},
   "outputs": [
    {
     "name": "stdout",
     "output_type": "stream",
     "text": [
      "字符串:\t a,b,c\n",
      "带占位符的字符串:\t 2,3,4\n",
      "列表:\t [2, 3, 4]\n",
      "元组:\t (2, 3, 4)\n",
      "字典:\t {'a': 2, 'b': 3, 'c': 4}\n"
     ]
    }
   ],
   "source": [
    "a = 2\n",
    "b = 3\n",
    "c = 4\n",
    "\n",
    "str_ = \"a,b,c\"\n",
    "strWithFormat = \"{},{},{}\".format(a,b,c)\n",
    "list_ = [a,b,c]\n",
    "tuple_ = (a,b,c)\n",
    "map_ = {\"a\":a,\"b\":b,\"c\":c}\n",
    "\n",
    "print(\"字符串:\\t\",str_)\n",
    "print(\"带占位符的字符串:\\t\",strWithFormat)\n",
    "print(\"列表:\\t\",list_)\n",
    "print(\"元组:\\t\",tuple_)\n",
    "print(\"字典:\\t\",map_)\n",
    "\n",
    "#更多关于数据类型：https://www.runoob.com/python/python-variable-types.html"
   ]
  },
  {
   "cell_type": "markdown",
   "id": "challenging-market",
   "metadata": {},
   "source": [
    "**运算**"
   ]
  },
  {
   "cell_type": "code",
   "execution_count": 8,
   "id": "expanded-negotiation",
   "metadata": {},
   "outputs": [
    {
     "name": "stdout",
     "output_type": "stream",
     "text": [
      "5\n",
      "-1\n",
      "6\n",
      "0.6666666666666666\n",
      "1\n",
      "2\n"
     ]
    }
   ],
   "source": [
    "# 加减乘除\n",
    "print(a+b)\n",
    "print(a-b)\n",
    "print(a*b)\n",
    "print(a/b)\n",
    "# 对结果四舍五入\n",
    "print(round(a/b))\n",
    "# 取余\n",
    "print(a%b)\n",
    "\n",
    "#更多关于运算：https://www.runoob.com/python3/python3-basic-operators.html"
   ]
  },
  {
   "cell_type": "markdown",
   "id": "viral-start",
   "metadata": {},
   "source": [
    "**部分数学函数**"
   ]
  },
  {
   "cell_type": "markdown",
   "id": "meaning-south",
   "metadata": {},
   "source": [
    "<tbody><tr>\n",
    "<th>函数</th><th>返回值 ( 描述 )</th></tr>\n",
    "<tr><td><a target=\"_blank\"  rel=\"noopener noreferrer\">abs(x)</a></td><td>返回数字的绝对值，如abs(-10) 返回 10</td></tr>\n",
    "<tr><td><a target=\"_blank\"  rel=\"noopener noreferrer\">ceil(x) </a></td><td>返回数字的上入整数，如math.ceil(4.1) 返回 5</td></tr>\n",
    "<tr>\n",
    "</tr>\n",
    "<tr><td><a target=\"_blank\"  rel=\"noopener noreferrer\">exp(x) </a></td><td>返回e的x次幂(e<sup>x</sup>),如math.exp(1) 返回2.718281828459045</td></tr>\n",
    "<tr><td><a target=\"_blank\" rel=\"noopener noreferrer\">fabs(x)</a></td><td>返回数字的绝对值，如math.fabs(-10) 返回10.0</td></tr>\n",
    "<tr><td><a target=\"_blank\" rel=\"noopener noreferrer\">floor(x) </a></td><td>返回数字的下舍整数，如math.floor(4.9)返回 4</td></tr>\n",
    "<tr><td><a target=\"_blank\"  rel=\"noopener noreferrer\">log(x) </a></td><td>如math.log(math.e)返回1.0,math.log(100,10)返回2.0</td></tr>\n",
    "<tr><td><a target=\"_blank\"  rel=\"noopener noreferrer\">log10(x) </a></td><td>返回以10为基数的x的对数，如math.log10(100)返回 2.0</td></tr>\n",
    "<tr><td><a target=\"_blank\"  rel=\"noopener noreferrer\">max(x1, x2,...) </a></td><td>返回给定参数的最大值，参数可以为序列。</td></tr>\n",
    "<tr><td><a target=\"_blank\"  rel=\"noopener noreferrer\">min(x1, x2,...) </a></td><td>返回给定参数的最小值，参数可以为序列。</td></tr>\n",
    "<tr><td><a target=\"_blank\"  rel=\"noopener noreferrer\">modf(x) </a></td><td>返回x的整数部分与小数部分，两部分的数值符号与x相同，整数部分以浮点型表示。</td></tr>\n",
    "<tr><td><a target=\"_blank\"  rel=\"noopener noreferrer\">pow(x, y)</a></td><td> x**y 运算后的值。</td></tr>\n",
    "<tr><td><a target=\"_blank\" rel=\"noopener noreferrer\">round(x [,n])</a></td><td>返回浮点数 x 的四舍五入值，如给出 n 值，则代表舍入到小数点后的位数。</p>\n",
    "<p><strong>其实准确的说是保留值将保留到离上一位更近的一端。</strong>\n",
    "</td></tr>\n",
    "<tr><td><a target=\"_blank\"  rel=\"noopener noreferrer\">sqrt(x) </a></td><td>返回数字x的平方根。</td></tr>\n",
    "</tbody>"
   ]
  },
  {
   "cell_type": "markdown",
   "id": "veterinary-murray",
   "metadata": {},
   "source": [
    "**判断与循环**"
   ]
  },
  {
   "cell_type": "code",
   "execution_count": 9,
   "id": "conscious-service",
   "metadata": {},
   "outputs": [
    {
     "name": "stdout",
     "output_type": "stream",
     "text": [
      "There are 7 white balls in all 12 balls\n"
     ]
    }
   ],
   "source": [
    "balls = ['white','white','white','otherColor','white','white','otherColor','otherColor','otherColor','white','white','otherColor']\n",
    "\n",
    "\n",
    "numOfWhiteColorBalls = 0\n",
    "numOfOtherColorBalls = 0\n",
    "\n",
    "for ball in balls:\n",
    "    if ball == 'white':\n",
    "        numOfWhiteColorBalls += 1\n",
    "    else :\n",
    "        numOfOtherColorBalls += 1\n",
    "\n",
    "if numOfWhiteColorBalls == 0:\n",
    "    print(\"There has no white ball in all {} balls\".format(numOfWhiteColorBalls+numOfOtherColorBalls))\n",
    "elif numOfWhiteColorBalls == 1:\n",
    "    print(\"There is 1 white ball in all {} balls\".format(numOfWhiteColorBalls+numOfOtherColorBalls))\n",
    "else :\n",
    "    print(\"There are {} white balls in all {} balls\".format(numOfWhiteColorBalls,numOfWhiteColorBalls+numOfOtherColorBalls))\n",
    "        \n",
    "        \n",
    "#更多关于判断和循环语句： \n",
    "# https://www.runoob.com/python/python-if-statement.html\n",
    "# https://www.runoob.com/python/python-loops.html"
   ]
  },
  {
   "cell_type": "markdown",
   "id": "becoming-samba",
   "metadata": {},
   "source": [
    "这段代码运用到了相当多的知识点和需要讨论的部分。\n",
    "\n",
    "首先你**所有的变量都应该有意义**，可以使用下划线命名法或者驼峰命名法来对你的变量进行命名。\n",
    "\n",
    "其次**for循环可以对相当多的数据类型进行迭代**，其中列表就是一个有迭代能力的数据类型，代码中ball在循环中指的是每一个球的颜色\n",
    "\n",
    "在Python中没有像C语言中`i++`这样的变量自增方法，你可以**使用`+= 1 `代替它**\n",
    "\n",
    " Python中没有像C语言中那样使用分号来作为每一行代码的结尾，但是**Python对于缩进的要求相当严格**，像很多初学者常犯的问题都是出现在缩进上面\n",
    " \n",
    " 下面这一幅动图是在循环和判断中的一个流程\n"
   ]
  },
  {
   "cell_type": "markdown",
   "id": "irish-regard",
   "metadata": {},
   "source": [
    "<img src=\"//www.runoob.com/wp-content/uploads/2014/05/006faQNTgw1f5wnm0mcxrg30ci07o47l.gif\">"
   ]
  },
  {
   "cell_type": "markdown",
   "id": "first-claim",
   "metadata": {},
   "source": [
    "**函数**"
   ]
  },
  {
   "cell_type": "markdown",
   "id": "pretty-principal",
   "metadata": {},
   "source": [
    "函数指的是一段可以执行特定功能的代码段，一般又称为子程序。函数存在的意义是可以将大量的重复性工作打包成一个固定的流程，当你给这个流程一些符合条件的输入时，在这个程序里面进行计算之后返回给你计算的结果。\n",
    "\n",
    "函数之间可以相互调用，这个特性也促成了一些算法的实现，比如递归。\n",
    "\n",
    "那在数学建模这种使用程序代码来帮助我们运算的应用背景下，一般都是我们有一系列的数据，需要经过相同或者类似的处理，那这个时候我们就把他们一个一个送进写好的函数中，再去接收他返回回来的输出，这样就可以起到批次计算的效果。\n",
    "\n",
    "接下来我们把上一个例子用函数来重新写一遍"
   ]
  },
  {
   "cell_type": "code",
   "execution_count": 16,
   "id": "approved-oklahoma",
   "metadata": {},
   "outputs": [
    {
     "name": "stdout",
     "output_type": "stream",
     "text": [
      "There are 6 white balls in all 13 balls\n",
      "There has no black ball in all 13 balls\n",
      "There are 3 yellow balls in all 13 balls\n",
      "There are 3 red balls in all 13 balls\n",
      "There is 1 blue ball in all 13 balls\n",
      "[{'white': 6}, {'black': 0}, {'yellow': 3}, {'red': 3}, {'blue': 1}]\n"
     ]
    }
   ],
   "source": [
    "def countSelectColorBalls(balls,selectColor):\n",
    "    numOfSelectColorBalls = 0\n",
    "    numOfOtherColorBalls = 0\n",
    "\n",
    "    for ball in balls:\n",
    "        if ball == selectColor:\n",
    "            numOfSelectColorBalls += 1\n",
    "        else :\n",
    "            numOfOtherColorBalls += 1\n",
    "\n",
    "    if numOfSelectColorBalls == 0:\n",
    "        print(\"There has no {} ball in all {} balls\".format(selectColor,numOfSelectColorBalls+numOfOtherColorBalls))\n",
    "    elif numOfSelectColorBalls == 1:\n",
    "        print(\"There is 1 {} ball in all {} balls\".format(selectColor,numOfSelectColorBalls+numOfOtherColorBalls))\n",
    "    else :\n",
    "        print(\"There are {} {} balls in all {} balls\".format(numOfSelectColorBalls,selectColor,numOfSelectColorBalls+numOfOtherColorBalls))\n",
    "\n",
    "    return {selectColor:numOfSelectColorBalls}\n",
    "\n",
    "balls = ['white','white','white','yellow','white','white','yellow','red','yellow','white','red','red','blue']\n",
    "\n",
    "ballColorList = []\n",
    "\n",
    "ballColorList.append(countSelectColorBalls(balls,\"white\"))\n",
    "ballColorList.append(countSelectColorBalls(balls,\"black\"))\n",
    "ballColorList.append(countSelectColorBalls(balls,\"yellow\"))\n",
    "ballColorList.append(countSelectColorBalls(balls,\"red\"))\n",
    "ballColorList.append(countSelectColorBalls(balls,\"blue\"))\n",
    "\n",
    "print(ballColorList)\n",
    "\n",
    "#更多关于函数： \n",
    "# https://www.runoob.com/python3/python3-function.html"
   ]
  },
  {
   "cell_type": "markdown",
   "id": "japanese-vertex",
   "metadata": {},
   "source": [
    "在这个例子中，我们把主要的运算部分包装成了一个叫做`countSelectColorBalls`的函数,这个函数有两个输入参数，返回值是颜色和对应该颜色的球的个数，其外还打印了一些输出在屏幕上.两个输入参数分别是`balls`和`selectColor`,代表了球的列表和被选择的颜色。返回值是一个以所选颜色为key，以所选颜色球的个数为value的字典,在主程序之外使用一个列表接收返回值,`append`指的是将参数接到列表末端。\n",
    "\n",
    "之后我们将上一个例子中对白球的计数器换成了对所选颜色的球的计数器,使它对其他的颜色也同样具有适配性。\n",
    "\n",
    "这里我们看到仍然有几行代码是高度重复的，那么我们可以用下面的例子来替代它。"
   ]
  },
  {
   "cell_type": "code",
   "execution_count": 18,
   "id": "signal-denial",
   "metadata": {},
   "outputs": [
    {
     "name": "stdout",
     "output_type": "stream",
     "text": [
      "There are 6 white balls in all 13 balls\n",
      "There are 3 red balls in all 13 balls\n",
      "There are 3 yellow balls in all 13 balls\n",
      "There is 1 blue ball in all 13 balls\n",
      "[{'white': 6}, {'red': 3}, {'yellow': 3}, {'blue': 1}]\n"
     ]
    }
   ],
   "source": [
    "ballColorList = []\n",
    "\n",
    "for color in set(balls):\n",
    "    ballColorList.append(countSelectColorBalls(balls,color))\n",
    "\n",
    "print(ballColorList)"
   ]
  },
  {
   "cell_type": "markdown",
   "id": "instant-jefferson",
   "metadata": {},
   "source": [
    "`set`是一种叫做集合的数据类型，它的特点就是集合内的元素是不重复的.那么对一个列表取集合，就能够得到里面不重复的所有元素。在将每一个颜色作为函数的输入值进行查询和运算。就能够得到相同的效果。"
   ]
  },
  {
   "cell_type": "markdown",
   "id": "joint-gentleman",
   "metadata": {},
   "source": [
    "## 日期和时间"
   ]
  },
  {
   "cell_type": "markdown",
   "id": "driving-cabinet",
   "metadata": {},
   "source": [
    "这里有一个计算机中非常常见的关于时间的概念叫做时间戳，它指的是从1970年1月1日零时开始的时间秒数或者毫秒数."
   ]
  },
  {
   "cell_type": "code",
   "execution_count": 33,
   "id": "moved-notion",
   "metadata": {},
   "outputs": [
    {
     "name": "stdout",
     "output_type": "stream",
     "text": [
      "当前时间戳为: 1611144800.335848\n"
     ]
    }
   ],
   "source": [
    "import time  # 引入time模块\n",
    " \n",
    "ticks = time.time()\n",
    "print(\"当前时间戳为:\", ticks)\n",
    "\n",
    "#更多关于日期和时间： \n",
    "# https://www.runoob.com/python3/python3-date-time.html"
   ]
  },
  {
   "cell_type": "markdown",
   "id": "humanitarian-packet",
   "metadata": {},
   "source": [
    "时间戳基本上就是所有关于时间的运算的基础，包括计算时间差值转换成日期,或者转换成其他什么别的格式。\n",
    "\n",
    "当然在Python中还包括了一些其他关于时间的操作，不用我们自己从时间戳开始转换。\n",
    "\n",
    "这里我们只做一些比较基本的示例，更多的更具体的使用方法，可以去参考其他的教程。\n",
    "\n",
    "为了方便后面的运算，我们先上两个函数。\n"
   ]
  },
  {
   "cell_type": "code",
   "execution_count": 1,
   "id": "moved-slave",
   "metadata": {},
   "outputs": [],
   "source": [
    "# 输出指定范围内的所有质数算法1\n",
    "def primeList_1(numMax):\n",
    "    primes = []\n",
    "    \n",
    "    for num in range(2,numMax):\n",
    "        for m in range(2,num):\n",
    "            if num % m == 0:\n",
    "                break\n",
    "        else:\n",
    "            primes.append(num)\n",
    "            \n",
    "    return primes\n",
    "\n",
    "# 输出指定范围内的所有质数算法2\n",
    "def primeList_2(numMax):\n",
    "    primes = []\n",
    "    numsList = []\n",
    "    \n",
    "    for i in range(numMax):\n",
    "        numsList.append(True)\n",
    "\n",
    "    for num in range(2,numMax):\n",
    "        addSum = num + num\n",
    "        while addSum < numMax :\n",
    "            numsList[addSum] = False\n",
    "            addSum += num\n",
    "    \n",
    "    for i in range(2,numMax):\n",
    "        if numsList[i]:\n",
    "            primes.append(i)\n",
    "            \n",
    "    return primes\n",
    "                       "
   ]
  },
  {
   "cell_type": "code",
   "execution_count": 32,
   "id": "engaging-driver",
   "metadata": {},
   "outputs": [
    {
     "name": "stdout",
     "output_type": "stream",
     "text": [
      "时间差为: 7.088785648345947\n",
      "时间差为: 0.039258480072021484\n"
     ]
    }
   ],
   "source": [
    "# 计算程序运行时间\n",
    "import time\n",
    "\n",
    "ticks1 = time.time()\n",
    "primeList_1(50000)\n",
    "ticks2 = time.time()\n",
    "print(\"时间差为:\", ticks2-ticks1)\n",
    "\n",
    "ticks1 = time.time()\n",
    "primeList_2(50000)\n",
    "ticks2 = time.time()\n",
    "print(\"时间差为:\", ticks2-ticks1)\n"
   ]
  },
  {
   "cell_type": "markdown",
   "id": "major-distinction",
   "metadata": {},
   "source": [
    "其实这个时间差计算还挺简单的，主要就是在代码块前面打一个时间戳，在代码块后面打一个时间戳把两个时间戳做一下减法就可以了。\n",
    "\n",
    "那么这里额外还要再说几个比较有价值的点。\n",
    "\n",
    "首先看函数primeList_1定义的第6行和第9行，这是一个for else结构 else在前面的for中break生效时会生效。\n",
    "\n",
    "再有就是当我们写程序时需要考虑城市的时间复杂度的问题，我们能看到上面的一端程序，第1种算法执行6-7秒，而第2种方法只需要执行0.04-0.06秒，效率差了100多倍，这就是一个很普通的计算质数的两种方法，在其他的问题中也有类似的优化途径，如果当你的循环达到了两层或者三级以后，你就可能需要用一些方法来进行优化。"
   ]
  },
  {
   "cell_type": "markdown",
   "id": "biological-network",
   "metadata": {},
   "source": [
    "## 三、数据读取"
   ]
  },
  {
   "cell_type": "markdown",
   "id": "postal-realtor",
   "metadata": {},
   "source": [
    "在进行数据处理分析和计算之前的首要步骤就是先把数据读进你的内存中，那么这一个部分就主要讲解如何使用Python来读取你的数据。\n",
    "\n",
    "这里我们主要讨论4种数据存储的方式，以及如何把他们从文件中读取出来，分别是**`txt、csv、json、xls`**\n",
    "\n",
    "- 这里面txt是我们非常常见的一种存储纯文本数据的方法,通常使用记事本就可以把它们轻松的打开(因为里面存的就是字符串)。当然，其实前三种文件格式都能够用记事本打开。他一般用来存储一些非结构化的零散的数据。\n",
    "\n",
    "- 如果提供的数据分成了很多条目，并且每一个条目中包含的数据类别都是一样的，那么它一般会使用`csv`来进行文件的存储，`csv`是一种利用逗号来进行数据分割（字符分割）的存储结构或者叫文件类型。\n",
    "\n",
    "https://www.jianshu.com/p/54b3afc06126  csv 文件格式介绍\n",
    "\n",
    "- 此外，第3种数据存储方法叫做`json`.它是一种在互联网上非常常用的传递结构化信息的方式。如果你要传递的信息比较复杂，每一个条目包含的数据类别分别不同，甚至会有多重的嵌套，那么使用`json`来存储和传递信息是非常简便的方法。\n",
    "\n",
    "https://www.cnblogs.com/hwtblog/p/8483573.html json 文件格式介绍\n",
    "\n",
    "- `xls`或者`xlsx`这是我们非常常见和常用的Excel的数据格式这里不再赘述。\n"
   ]
  },
  {
   "cell_type": "markdown",
   "id": "minor-ministry",
   "metadata": {},
   "source": [
    "**txt**:"
   ]
  },
  {
   "cell_type": "code",
   "execution_count": 100,
   "id": "mental-contamination",
   "metadata": {
    "scrolled": true
   },
   "outputs": [
    {
     "name": "stdout",
     "output_type": "stream",
     "text": [
      "0 1 2 3 4 5 6 7 8 9 10 11 12 13 14 15 16 17 18 19 20 \n"
     ]
    }
   ],
   "source": [
    " with open(\"txtFileTest.txt\",\"r\") as txtFile:\n",
    "        print(txtFile.read().replace(\"\\n\",\" \"))\n",
    "        # 这里正常输出应该是每个数字一行的，但是为了展示的方便，就把换行符换成了空格来输出（\\n是换行）"
   ]
  },
  {
   "cell_type": "code",
   "execution_count": 101,
   "id": "associate-karma",
   "metadata": {
    "scrolled": true
   },
   "outputs": [
    {
     "name": "stdout",
     "output_type": "stream",
     "text": [
      "0\n",
      "\n",
      "1\n",
      "\n",
      "2\n",
      "\n"
     ]
    }
   ],
   "source": [
    " with open(\"txtFileTest.txt\",\"r\") as txtFile:\n",
    "        print(txtFile.readline())\n",
    "        print(txtFile.readline())\n",
    "        print(txtFile.readline())"
   ]
  },
  {
   "cell_type": "code",
   "execution_count": 102,
   "id": "attached-statement",
   "metadata": {},
   "outputs": [
    {
     "name": "stdout",
     "output_type": "stream",
     "text": [
      "['0\\n', '1\\n', '2\\n', '3\\n', '4\\n', '5\\n', '6\\n', '7\\n', '8\\n', '9\\n', '10\\n', '11\\n', '12\\n', '13\\n', '14\\n', '15\\n', '16\\n', '17\\n', '18\\n', '19\\n', '20\\n']\n"
     ]
    }
   ],
   "source": [
    " with open(\"txtFileTest.txt\",\"r\") as txtFile:\n",
    "        print(txtFile.readlines())"
   ]
  },
  {
   "cell_type": "markdown",
   "id": "breathing-jenny",
   "metadata": {},
   "source": [
    "说明使用了三种方法来读取文件中的内容,当然打开文件的方法都是一致的,使用with as 结构是一种很好的习惯，他能够在这个代码段结束之后自动的关闭文件。避免了，我们还要手动的去执行文件关闭这样的操作。\n",
    "\n",
    "\n",
    "read() 一次性将所有的内容都读取出来\n",
    "\n",
    "readline() 每次只读取一行内容，如果要读取下一行可以再次执行\n",
    "\n",
    "readlines() 会把所有行内容都读取出来，并且作为一个列表输出"
   ]
  },
  {
   "cell_type": "markdown",
   "id": "functional-daniel",
   "metadata": {},
   "source": [
    "**csv**:"
   ]
  },
  {
   "cell_type": "markdown",
   "id": "personalized-preparation",
   "metadata": {},
   "source": [
    "csv的示例文件使用了来自阿里云：天池的**NASA Facilities 美国宇航局设施：NASA设施名称和位置的数据集**，该数据集的描述和下载链接在：\n",
    "https://tianchi.aliyun.com/dataset/dataDetail?dataId=88775\n",
    "\n",
    "数据文件名称是：NASA_Facilities.csv\n",
    "\n",
    "虽说后缀是csv，但他其实也就是一份纯文本文件，用with as 打开之后，按纯文本文件读取一点问题都没有，那么需要解决的就是如何存储，比如我们可以用一个list来存标题，再用两层list嵌套来存数据。"
   ]
  },
  {
   "cell_type": "code",
   "execution_count": 103,
   "id": "different-logan",
   "metadata": {},
   "outputs": [
    {
     "name": "stdout",
     "output_type": "stream",
     "text": [
      "['Center', 'Center Search Status', 'Facility', 'FacilityURL', 'Occupied', 'Status', 'URL Link', 'Record Date', 'Last Update', 'Country', 'Location', 'City', 'State', 'Zipcode\\n']\n",
      "485\n",
      "[['Stennis Space Center', 'Public', 'Test Stand A-2 #4122', '', '01/01/1964 12:00:00 AM', 'Inactive', 'http://rockettest.nasa.gov', '03/01/1996 12:00:00 AM', '04/06/2015 12:00:00 AM', 'US', '\"39529-6000 (30.385948', ' -89.604486)\"', 'Stennis Space Center', 'MS', '39529-6000\\n'], ['Ames Research Center', 'Public', 'N229 - EXPER. AEROTHERMODYNAMIC FAC.: ELECTRIC ARC SHOCK TUBE FACILITY (PAPAC)', '', '01/01/1961 12:00:00 AM', 'Active', 'http://thermo-physics.arc.nasa.gov', '03/01/1996 12:00:00 AM', '06/13/2014 12:00:00 AM', 'US', '\"94035 (37.41412', ' -122.052585)\"', 'Moffett Field', 'CA', '94035\\n'], ['Goddard Space Flight Center', 'Public', '\"500 WSC: Antenna', ' 10m S-band\"', '', '01/01/1977 12:00:00 AM', 'Active', '', '03/01/1996 12:00:00 AM', '08/15/2013 12:00:00 AM', 'US', '\"20771 (38.99538', ' -76.853161)\"', 'Greenbelt', 'MD', '20771\\n']]\n"
     ]
    }
   ],
   "source": [
    "with open(\"NASA_Facilities.csv\",\"r\") as csvFile:\n",
    "    title = csvFile.readline().split(\",\")\n",
    "    print(title)\n",
    "    data = []\n",
    "    for line in csvFile.readlines() :\n",
    "        data.append(line.split(\",\"))\n",
    "    print(len(data))\n",
    "    print(data[:3])"
   ]
  },
  {
   "cell_type": "markdown",
   "id": "experienced-seller",
   "metadata": {},
   "source": [
    "那当然，除了正常的文件读写以外，Python也支持通过csv模块来进行csv文件的读写。这里我们打印了第6列的前7行\n",
    "\n",
    "csv.reader对文件生成了一个迭代器reader,当我们用for循环对迭代进行迭代时 row 指向了文件的每一行,它会自动地把每一行都已默认的分隔符，比如说逗号分隔成一个列表，那么这样我们就可以通过指定每一行中的列表的第几项来决定输出第几列文件,比如row\\[5\\]指的是第6列.那在循环里面，我们使用count来统计已经输出的函数.\n",
    "\n",
    "当然，除此之外csv模块还提供了对文件写入的操作具体的使用方法，在csv.writer里\n",
    "\n",
    "想要知道更多关于csv reader的或者csv writer的内容，可以使用help(csv.reader)  help(csv.writer)"
   ]
  },
  {
   "cell_type": "code",
   "execution_count": 104,
   "id": "serial-venue",
   "metadata": {},
   "outputs": [
    {
     "name": "stdout",
     "output_type": "stream",
     "text": [
      "1 Status\n",
      "2 Inactive\n",
      "3 Active\n",
      "4 Active\n",
      "5 Active\n",
      "6 Active\n",
      "7 Active\n"
     ]
    }
   ],
   "source": [
    "# 读取csv文件\n",
    "import csv\n",
    "with open('NASA_Facilities.csv', 'r') as csvFile:    \n",
    "    reader = csv.reader(csvFile)\n",
    "    count = 1\n",
    "    for row in reader:\n",
    "        print(reader.line_num,row[5])\n",
    "        count += 1\n",
    "        if count > 7:# 用于限制输出次数\n",
    "            break\n",
    "            \n"
   ]
  },
  {
   "cell_type": "markdown",
   "id": "outer-cartridge",
   "metadata": {},
   "source": [
    "**json**"
   ]
  },
  {
   "attachments": {
    "%E5%9B%BE%E7%89%87-2.png": {
     "image/png": "[encoded data removed]"
    },
    "%E5%9B%BE%E7%89%87-3.png": {
     "image/png": "[encoded data removed]"
    }
   },
   "cell_type": "markdown",
   "id": "rocky-batman",
   "metadata": {},
   "source": [
    "json的样例文件来自于中国铁路12306,是12306的前端对后端的一次接口调用（北京到哈尔滨的车票查询）返回的json信息\n",
    "\n",
    "https://kyfw.12306.cn/otn/leftTicket/queryY?leftTicketDTO.train_date=2021-01-21&leftTicketDTO.from_station=BJP&leftTicketDTO.to_station=HBB&purpose_codes=ADULT\n",
    "\n",
    "查询得到的数据信息如下图所示\n",
    "\n",
    "![%E5%9B%BE%E7%89%87-2.png](attachment:%E5%9B%BE%E7%89%87-2.png)\n",
    "\n",
    "![%E5%9B%BE%E7%89%87-3.png](attachment:%E5%9B%BE%E7%89%87-3.png)\n",
    "\n",
    "\n",
    "把它保存为文件BJP2HBB.json  文件里面一共有26个车次和一些代码与车站的映射，那接下来我们把它转换成正常可以读的方式\n",
    "\n",
    "我注释把思路写的很清楚了，如果有什么函数或者语法上不懂的，就直接去百度搜就好了\n",
    "\n",
    "到我们人工去处理json文件的结构的时候，可能他整个文件都只写在一行，看起来非常的费劲，那这个时候我们可以用到一些线上的工具，比如https://www.json.cn/ 这是一个json格式在线解析和格式化的线上工具。可以比较有效的把那种一行的不太符合人类阅读习惯的文件去做一下转换"
   ]
  },
  {
   "cell_type": "code",
   "execution_count": 105,
   "id": "quick-brisbane",
   "metadata": {},
   "outputs": [
    {
     "name": "stdout",
     "output_type": "stream",
     "text": [
      "Z157 北京 05:59 哈尔滨西 17:25 \n",
      "D29 北京 06:34 哈尔滨西 14:39 \n",
      "D29 北京 06:34 哈尔滨 14:53 \n",
      "G393 北京南 07:00 哈尔滨 14:10 \n",
      "G381 北京南 07:54 哈尔滨西 15:33 \n"
     ]
    }
   ],
   "source": [
    "import json\n",
    "\n",
    "with open(\"BJP2HBB.json\",\"r\") as jsonFile: # 把文件打开\n",
    "    jsonFile = jsonFile.read()# 读入所有的内容\n",
    "    jsonFile = json.loads(jsonFile)# 使用json库把字符串转成可以识别的格式\n",
    "    \n",
    "trainNumList = jsonFile['data']['result']# 提取出车次信息\n",
    "trainMap = jsonFile['data']['map']# 提取出站点代码跟站点的映射关系\n",
    "\n",
    "for trainNum in trainNumList[:5]:# 循环处理所有车次信息.为了缩短输出，只处理前5项\n",
    "\n",
    "    print(trainNum.split('|')[3],end=\" \")# 输出车次号码\n",
    "    \n",
    "    startStationsTimes = trainNum.split('|')[6:9:2]# 提取出起始站点代码和发车时间   6和8\n",
    "    endStationsTimes   = trainNum.split('|')[7:10:2]# 提取出到达站点和到达时间  7和9\n",
    "\n",
    "    for stationsTime in [startStationsTimes,endStationsTimes] :    \n",
    "        print(trainMap[stationsTime[0]],end=\" \")# 输出站点名称，把站点代码映射为站点名称\n",
    "        print(stationsTime[1],end=\" \")# 输出发车或者到达时间\n",
    "        \n",
    "    print()# 换行\n",
    "        \n"
   ]
  },
  {
   "cell_type": "markdown",
   "id": "appropriate-active",
   "metadata": {},
   "source": [
    "那么一般当把文件里面的数据或者是标签之类的都处理出来之后，就可以进行数据的计算和分析了。"
   ]
  },
  {
   "cell_type": "markdown",
   "id": "hungarian-medication",
   "metadata": {},
   "source": [
    "**xls&xlsx**"
   ]
  },
  {
   "attachments": {
    "%E5%9B%BE%E7%89%87.png": {
     "image/png": "[encoded data removed]"
    }
   },
   "cell_type": "markdown",
   "id": "wired-allocation",
   "metadata": {},
   "source": [
    "xls和xlsx是office独有的文件格式，它的文件的存储形式是二进制，所以里面的内容无法通过直接打开文件来读取，需要通过一些外部的包来进行中介，比如xlrd/xlwt/openpyxl\n",
    "\n",
    "实际上是很不建议使用xls来进行数据文件的交换的，最大的问题在于它只支持16384列和1048576行。这个数据量看起来挺大但实际在处理大量数据时，很容易就会超出这个限制。\n",
    "\n",
    "![%E5%9B%BE%E7%89%87.png](attachment:%E5%9B%BE%E7%89%87.png)\n",
    "\n",
    "\n",
    "以上面这个样例文件入手，把总价计算出来。"
   ]
  },
  {
   "cell_type": "code",
   "execution_count": 158,
   "id": "duplicate-hungarian",
   "metadata": {},
   "outputs": [
    {
     "name": "stdout",
     "output_type": "stream",
     "text": [
      "['单价', 1.2, 3.5, 5.2, 7.0, 4.0, 6.1, 4.0, 9.0]\n",
      "['个数', 1.0, 5.0, 6.0, 3.0, 2.0, 5.0, 5.0, 9.0]\n",
      "总价\n",
      "1.2 17.5 31.2 21.0 8.0 30.5 20.0 81.0 "
     ]
    }
   ],
   "source": [
    "import xlrd, xlwt\n",
    "from xlutils.copy import copy\n",
    "\n",
    "workbook = xlrd.open_workbook(\"xlsFiletest.xls\")# 打开输入文件\n",
    "worksheet = workbook.sheet_by_index(0)# 找到第1个工作表\n",
    "\n",
    "\n",
    "price = worksheet.col_values(1)# 把单价读出来\n",
    "print(price)\n",
    "count = worksheet.col_values(2)# 把数量读出来\n",
    "print(count)\n",
    "\n",
    "\n",
    "workbook = copy(workbook)# 通过copy把只读改为可读写\n",
    "worksheet = workbook.get_sheet(0)\n",
    "\n",
    "print(\"总价\")\n",
    "for rowCount in range(1,len(price)):\n",
    "    totalPrice = round(float(price[rowCount])*float(count[rowCount]),2)# 计算总价\n",
    "    print(totalPrice,end = \" \")# 从屏幕上打印价格\n",
    "    worksheet.write(rowCount,3,totalPrice)# 把价格写入工作表对应位置\n",
    "\n",
    "workbook.save(\"xlsFileoutput.xls\")# 保存文件\n"
   ]
  }
 ],
 "metadata": {
  "kernelspec": {
   "display_name": "Python 3",
   "language": "python",
   "name": "python3"
  },
  "language_info": {
   "codemirror_mode": {
    "name": "ipython",
    "version": 3
   },
   "file_extension": ".py",
   "mimetype": "text/x-python",
   "name": "python",
   "nbconvert_exporter": "python",
   "pygments_lexer": "ipython3",
   "version": "3.8.3"
  }
 },
 "nbformat": 4,
 "nbformat_minor": 5
}
